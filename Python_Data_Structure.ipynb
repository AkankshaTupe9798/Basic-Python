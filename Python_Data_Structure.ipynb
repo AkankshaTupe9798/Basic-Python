{
  "nbformat": 4,
  "nbformat_minor": 0,
  "metadata": {
    "colab": {
      "provenance": []
    },
    "kernelspec": {
      "name": "python3",
      "display_name": "Python 3"
    },
    "language_info": {
      "name": "python"
    }
  },
  "cells": [
    {
      "cell_type": "markdown",
      "source": [
        "# Data Types and Structures"
      ],
      "metadata": {
        "id": "RCprPJYWTTdi"
      }
    },
    {
      "cell_type": "markdown",
      "source": [
        " 1. What are data structures, and why are they important?\n",
        "    - Data structures are ways to organize and store data so it can be used efficiently. They are essential for writing fast and optimized programs. Common types include arrays, linked lists, stacks, queues, trees, graphs, and hash tables. Each has specific use cases depending on the problem. Understanding data structures helps in solving complex problems and building better software.\n",
        "2.  Explain the difference between mutable and immutable data types with examples?\n",
        "    - Mutable data types can be changed after they are created, meaning their content can be updated without creating a new object. Examples include lists, dictionaries, and sets. Immutable data types, like integers, strings, and tuples, cannot be changed once created; any modification creates a new object instead. Knowing the difference helps in writing better and more efficient code.\n"
      ],
      "metadata": {
        "id": "BC5N4NodTWO1"
      }
    },
    {
      "cell_type": "code",
      "source": [
        "# Mutable (List)\n",
        "my_list = [1, 2, 3]\n",
        "my_list[0] = 10       # Modifies the list\n",
        "print(my_list)        # Output: [10, 2, 3]"
      ],
      "metadata": {
        "id": "J7I33TcYWxfh",
        "outputId": "dd99edfe-aff4-4fb6-ed46-efd8a41ebea6",
        "colab": {
          "base_uri": "https://localhost:8080/"
        }
      },
      "execution_count": null,
      "outputs": [
        {
          "output_type": "stream",
          "name": "stdout",
          "text": [
            "[10, 2, 3]\n"
          ]
        }
      ]
    },
    {
      "cell_type": "code",
      "source": [
        "#Immutable (String)\n",
        "my_str = \"hello\"\n",
        "# my_str[0] = 'H'    # This will cause an error: TypeError\n",
        "print(my_str)        # Output: hello (unchanged)"
      ],
      "metadata": {
        "id": "CBSyOc49W4F1",
        "outputId": "c5b6e02f-84bf-4375-c634-4ceb55836207",
        "colab": {
          "base_uri": "https://localhost:8080/"
        }
      },
      "execution_count": null,
      "outputs": [
        {
          "output_type": "stream",
          "name": "stdout",
          "text": [
            "hello\n"
          ]
        }
      ]
    },
    {
      "cell_type": "markdown",
      "source": [
        "3. What are the main differences between lists and tuples in Python?\n",
        "   - Lists and tuples both hold groups of items in Python, but they work differently. Lists can be changed — you can add, remove, or change items, and they use square brackets [ ]. Tuples cannot be changed once made, and they use parentheses ( ). Because tuples don’t change, they are faster and often used for data that should stay the same. Lists are more flexible with many ways to change their content. You use a list when you want to change your data and a tuple when you want to keep it safe from changes.\n",
        "4. Describe how dictionaries store data?\n",
        "   -  Dictionaries in Python store data as key-value pairs, where each unique key is linked to a value. Internally, dictionaries use a structure called a hash table to organize and access these pairs efficiently. When you add a key-value pair, the key is passed through a hash function that calculates an index where the value is stored. This allows Python to quickly find, add, or update values by their keys without searching the entire dictionary. Because keys must be unique and immutable (like strings or numbers), dictionaries provide fast and easy access to data using meaningful identifiers instead of just positions.\n",
        "5. Why might you use a set instead of a list in Python?\n",
        "   - A set is used when you want to store a collection of unique items and don’t care about the order. Unlike lists, sets automatically remove duplicate values. Sets also offer faster performance when checking if an item exists using the in keyword. This makes sets useful when working with large amounts of data where duplicates are not allowed.\n",
        "6. What is a string in Python, and how is it different from a list?\n",
        "   - A string in Python is a sequence of characters, like \"hello\". A list is a collection that can hold items of any type, such as numbers, strings, or even other lists. Strings are immutable, which means they cannot be changed after they are created, while lists are mutable, allowing changes to individual elements.\n",
        "7. How do tuples ensure data integrity in Python?\n",
        "   - Tuples are immutable, meaning once they are created, their values cannot be changed. This makes tuples useful for storing constant data that should remain the same throughout the program. It helps maintain data integrity, because the data in a tuple can't be accidentally modified.\n",
        "8. What is a hash table, and how does it relate to dictionaries in Python?\n",
        "   - A hash table is a data structure that stores data using key-value pairs, and it allows for very fast access to values using a key. In Python, dictionaries are built using hash tables. This is why you can quickly find a value in a dictionary by simply using its key, rather than searching through all items.\n",
        "9. Can lists contain different data types in Python?\n",
        "   - Yes, Python lists are very flexible and can hold items of different data types in the same list. For example, a list can contain a string, a number, a float, and even another list or dictionary. This makes lists useful for holding mixed or related data together.\n",
        "10. Explain why strings are immutable in Python.\n",
        "   - Strings in Python are immutable, meaning their contents cannot be changed after creation. This helps Python manage memory more efficiently and ensures that strings remain safe and secure, especially when used in large programs. If you try to modify a string, Python creates a new string instead of changing the original.\n",
        "11. What advantages do dictionaries offer over lists for certain tasks?\n",
        "    - Dictionaries are great when you want to store and retrieve data using a name or label, rather than a position. They store data as key-value pairs, allowing you to find a value quickly using its key. This is often faster and more readable than using a list, especially when working with structured data like user profiles or settings.\n",
        "12. Describe a scenario where using a tuple would be preferable over a list.\n",
        "    - You should use a tuple when you need to store fixed data that should not change. For example, storing coordinates like (latitude, longitude) or a person’s date of birth makes more sense in a tuple, since this kind of data should stay the same and not be modified later in the program.\n",
        "13. How do sets handle duplicate values in Python?\n",
        "    - Sets in Python automatically remove duplicates. If you add the same item multiple times to a set, it will only keep one copy. This makes sets ideal for tasks where you want to find unique values, like getting unique names from a list of names.\n",
        "14. How does the “in” keyword work differently for lists and dictionaries?\n",
        "    - In lists, the in keyword checks whether a value is in the list. In dictionaries, the in keyword checks whether a key exists in the dictionary, not the value. This difference is important when checking for the presence of data in these collections.\n",
        "15. Can you modify the elements of a tuple? Explain why or why not.\n",
        "    - No, you cannot modify the elements of a tuple because it is immutable. Once a tuple is created, its content cannot be changed. This makes tuples useful for storing constant or fixed data that should not be accidentally changed during program execution.\n",
        "16. What is a nested dictionary, and give an example of its use case?\n",
        "    - A nested dictionary is a dictionary that contains another dictionary as a value. This is useful for organizing complex data. For example, you might have a dictionary for a student where each student has a sub-dictionary with their name and marks"
      ],
      "metadata": {
        "id": "-Wiu9AhAXIu_"
      }
    },
    {
      "cell_type": "code",
      "source": [
        "students = {\"101\": {\"name\": \"Ali\", \"marks\": 85}}"
      ],
      "metadata": {
        "id": "5-rvXyANuwUA"
      },
      "execution_count": null,
      "outputs": []
    },
    {
      "cell_type": "markdown",
      "source": [
        "17. Describe the time complexity of accessing elements in a dictionary?\n",
        "    - Accessing an item in a dictionary by key is very fast, with an average time complexity of O(1), meaning it takes the same time no matter how large the dictionary is. This makes dictionaries one of the fastest data structures for lookups.\n",
        "18. In what situations are lists preferred over dictionaries?\n",
        "    - Lists are preferred when you need to maintain order, store simple collections of values, or when the position (index) of the items matters. They are ideal for tasks like looping through items in order or when storing a group of similar elements like names or numbers.\n",
        "19. Why are dictionaries considered unordered, and how does that affect data retrieval?\n",
        "    - In earlier versions of Python, dictionaries were unordered, meaning the order of keys was not guaranteed. From Python 3.7 onwards, dictionaries preserve the insertion order. However, they are still accessed using keys, not positions, so the order doesn’t usually affect how data is retrieved.\n",
        "20. Explain the difference between a list and a dictionary in terms of data retrieval.\n",
        "    - The main difference is that lists use index numbers to retrieve data, while dictionaries use keys. In a list, you access items by their position, like my_list[0]. In a dictionary, you access items by key, like my_dict[\"name\"]. Lists are best for ordered collections, while dictionaries are best for labeled data.\n"
      ],
      "metadata": {
        "id": "WuVNJa7wvBKH"
      }
    },
    {
      "cell_type": "markdown",
      "source": [
        "# Practical Questions"
      ],
      "metadata": {
        "id": "qRFqULxjT2Sp"
      }
    },
    {
      "cell_type": "markdown",
      "source": [
        "1. Write a code to create a string with your name and print it."
      ],
      "metadata": {
        "id": "T7uzYNYqUNcW"
      }
    },
    {
      "cell_type": "code",
      "source": [
        "name = \"Akanksha\"\n",
        "print(name)\n"
      ],
      "metadata": {
        "colab": {
          "base_uri": "https://localhost:8080/"
        },
        "id": "UaSpZSDLUL0R",
        "outputId": "20a5c0ff-297a-4a46-9762-64f9fe53cb5a"
      },
      "execution_count": 1,
      "outputs": [
        {
          "output_type": "stream",
          "name": "stdout",
          "text": [
            "Akanksha\n"
          ]
        }
      ]
    },
    {
      "cell_type": "markdown",
      "source": [
        "2. Write a code to find the length of the string \"Hello World\"."
      ],
      "metadata": {
        "id": "pKdfFD_SVRgt"
      }
    },
    {
      "cell_type": "code",
      "source": [
        "text = \"Hello World\"\n",
        "print(len(text))\n"
      ],
      "metadata": {
        "colab": {
          "base_uri": "https://localhost:8080/"
        },
        "id": "_efTS05hVR_B",
        "outputId": "04844588-2559-40ec-e701-c1377f043961"
      },
      "execution_count": 2,
      "outputs": [
        {
          "output_type": "stream",
          "name": "stdout",
          "text": [
            "11\n"
          ]
        }
      ]
    },
    {
      "cell_type": "markdown",
      "source": [
        "3. Write a code to slice the first 3 characters from the string \"Python Programming\"."
      ],
      "metadata": {
        "id": "6Tbq_1G3VbJH"
      }
    },
    {
      "cell_type": "code",
      "source": [
        "word = \"Python Programming\"\n",
        "print(word[:3])\n"
      ],
      "metadata": {
        "colab": {
          "base_uri": "https://localhost:8080/"
        },
        "id": "lUk-Ys1eVf2t",
        "outputId": "c9bb2909-fc8e-479c-ad93-e577ab95d178"
      },
      "execution_count": 3,
      "outputs": [
        {
          "output_type": "stream",
          "name": "stdout",
          "text": [
            "Pyt\n"
          ]
        }
      ]
    },
    {
      "cell_type": "markdown",
      "source": [
        "4. Write a code to convert the string \"hello\" to uppercase."
      ],
      "metadata": {
        "id": "r86b5JpxVo1X"
      }
    },
    {
      "cell_type": "code",
      "source": [
        "text = \"hello\"\n",
        "print(text.upper())\n"
      ],
      "metadata": {
        "colab": {
          "base_uri": "https://localhost:8080/"
        },
        "id": "BLJ1eacRV3UR",
        "outputId": "1fb6ccba-2cb2-4c99-8af3-cb87d318e5f0"
      },
      "execution_count": 4,
      "outputs": [
        {
          "output_type": "stream",
          "name": "stdout",
          "text": [
            "HELLO\n"
          ]
        }
      ]
    },
    {
      "cell_type": "markdown",
      "source": [
        "5. Write a code to replace the word \"apple\" with \"orange\" in the string \"I like apple\"."
      ],
      "metadata": {
        "id": "UndL5AHbWcUc"
      }
    },
    {
      "cell_type": "code",
      "source": [
        "sentence = \"I like apple\"\n",
        "print(sentence.replace(\"apple\", \"orange\"))\n"
      ],
      "metadata": {
        "colab": {
          "base_uri": "https://localhost:8080/"
        },
        "id": "Poc0i7dOWk6j",
        "outputId": "cef455b9-3ee2-4913-fad7-9152d93cf05d"
      },
      "execution_count": 5,
      "outputs": [
        {
          "output_type": "stream",
          "name": "stdout",
          "text": [
            "I like orange\n"
          ]
        }
      ]
    },
    {
      "cell_type": "markdown",
      "source": [
        "6. Write a code to create a list with numbers 1 to 5 and print it."
      ],
      "metadata": {
        "id": "RTcFp2zTWn1k"
      }
    },
    {
      "cell_type": "code",
      "source": [
        "numbers = [1, 2, 3, 4, 5]\n",
        "print(numbers)"
      ],
      "metadata": {
        "colab": {
          "base_uri": "https://localhost:8080/"
        },
        "id": "zUuPYoRPWtH-",
        "outputId": "d9e34f43-cd84-475a-b70b-f7a7f6bef0ba"
      },
      "execution_count": 6,
      "outputs": [
        {
          "output_type": "stream",
          "name": "stdout",
          "text": [
            "[1, 2, 3, 4, 5]\n"
          ]
        }
      ]
    },
    {
      "cell_type": "markdown",
      "source": [
        "7. Write a code to append the number 10 to the list [1, 2, 3, 4]."
      ],
      "metadata": {
        "id": "rkYfah9WW48Y"
      }
    },
    {
      "cell_type": "code",
      "source": [
        "numbers = [1, 2, 3, 4]\n",
        "numbers.append(10)\n",
        "print(numbers)"
      ],
      "metadata": {
        "colab": {
          "base_uri": "https://localhost:8080/"
        },
        "id": "fiZk0HSZW98i",
        "outputId": "e1ab5d22-af2e-4028-9dca-b33185cb0e1a"
      },
      "execution_count": 7,
      "outputs": [
        {
          "output_type": "stream",
          "name": "stdout",
          "text": [
            "[1, 2, 3, 4, 10]\n"
          ]
        }
      ]
    },
    {
      "cell_type": "markdown",
      "source": [
        "8. Write a code to remove the number 3 from the list [1, 2, 3, 4, 5]."
      ],
      "metadata": {
        "id": "uFgTOlEyXH0G"
      }
    },
    {
      "cell_type": "code",
      "source": [
        "numbers = [1, 2, 3, 4, 5]\n",
        "numbers.remove(3)\n",
        "print(numbers)"
      ],
      "metadata": {
        "colab": {
          "base_uri": "https://localhost:8080/"
        },
        "id": "j7CiTm6sXHZm",
        "outputId": "01411a24-6b16-44bc-af6f-be9f89acf616"
      },
      "execution_count": 8,
      "outputs": [
        {
          "output_type": "stream",
          "name": "stdout",
          "text": [
            "[1, 2, 4, 5]\n"
          ]
        }
      ]
    },
    {
      "cell_type": "markdown",
      "source": [
        "9. Write a code to access the second element in the list ['a', 'b', 'c', 'd']."
      ],
      "metadata": {
        "id": "JFfMVoflXQHU"
      }
    },
    {
      "cell_type": "code",
      "source": [
        "letters = ['a', 'b', 'c', 'd']\n",
        "print(letters[1])"
      ],
      "metadata": {
        "colab": {
          "base_uri": "https://localhost:8080/"
        },
        "id": "m6IppRNGXT6c",
        "outputId": "21fa992c-8c11-4a7a-eebe-efd10173d4eb"
      },
      "execution_count": 9,
      "outputs": [
        {
          "output_type": "stream",
          "name": "stdout",
          "text": [
            "b\n"
          ]
        }
      ]
    },
    {
      "cell_type": "markdown",
      "source": [
        "10. Write a code to reverse the list [10, 20, 30, 40, 50]."
      ],
      "metadata": {
        "id": "JYrjPVm4Xfy4"
      }
    },
    {
      "cell_type": "code",
      "source": [
        "numbers = [10, 20, 30, 40, 50]\n",
        "numbers.reverse()\n",
        "print(numbers)"
      ],
      "metadata": {
        "colab": {
          "base_uri": "https://localhost:8080/"
        },
        "id": "F5B6IbMUXhng",
        "outputId": "b80efbfa-9770-44d2-c942-1687b6640bb1"
      },
      "execution_count": 10,
      "outputs": [
        {
          "output_type": "stream",
          "name": "stdout",
          "text": [
            "[50, 40, 30, 20, 10]\n"
          ]
        }
      ]
    }
  ]
}