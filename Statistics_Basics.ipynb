{
  "nbformat": 4,
  "nbformat_minor": 0,
  "metadata": {
    "colab": {
      "provenance": []
    },
    "kernelspec": {
      "name": "python3",
      "display_name": "Python 3"
    },
    "language_info": {
      "name": "python"
    }
  },
  "cells": [
    {
      "cell_type": "markdown",
      "source": [
        "#Statistics Basics"
      ],
      "metadata": {
        "id": "cwoHyCbHMIJI"
      }
    },
    {
      "cell_type": "markdown",
      "source": [
        "# 1. What is the difference between descriptive statistics and inferential statistics? Explain with examples.\n",
        "  - Statistics is broadly divided into two branches: descriptive statistics and inferential statistics.\n",
        "Descriptive statistics deals with the methods of collecting, organizing, summarizing, and presenting data in a meaningful way. It focuses on describing the characteristics of a dataset without making conclusions that go beyond the data itself. Techniques such as measures of central tendency (mean, median, mode), measures of dispersion (range, variance, standard deviation), and data visualization methods (bar charts, histograms, pie charts, boxplots) are all part of descriptive statistics. For example, a company may use descriptive statistics to report the average monthly sales, the highest and lowest sales figures, and the overall trend in sales performance over the past year. These measures help us quickly understand what the data represents but do not allow us to predict or generalize about data outside the observed dataset.\n",
        "Inferential statistics, on the other hand, is about making predictions, inferences, or generalizations about a population based on a smaller subset called a sample. Because it is often impractical or impossible to collect data from an entire population, inferential statistics relies on probability theory and sampling methods to draw conclusions. It involves techniques such as hypothesis testing, regression analysis, correlation, confidence intervals, and ANOVA. For example, instead of measuring the exam scores of all students in a country, a researcher might select a sample of 500 students and use inferential statistics to estimate the average exam performance of all students in the country. This process involves uncertainty, so inferential statistics also provides measures of reliability such as p-values and confidence levels."
      ],
      "metadata": {
        "id": "8tWDbkRuJB3H"
      }
    },
    {
      "cell_type": "markdown",
      "source": [
        "# 2. What is sampling in statistics? Explain the differences between random and stratified sampling.\n",
        "  - Sampling is a fundamental concept in statistics where a subset of individuals, items, or observations is selected from a larger population for analysis. Since studying an entire population is often impractical due to time, cost, or accessibility, sampling allows researchers to gather meaningful insights more efficiently while still maintaining accuracy if done correctly. A good sample should be representative of the entire population, meaning it should reflect the characteristics of the whole group.\n",
        "Random sampling is one of the simplest and most widely used methods. In this method, every individual or item in the population has an equal chance of being selected. This helps eliminate bias and ensures fairness. For example, if a company wants to evaluate employee satisfaction, they might randomly select 100 employees from their workforce of 5,000. Because each employee has the same chance of being chosen, the results can be generalized to the whole company with a high degree of confidence.\n",
        "Stratified sampling takes this process one step further. Here, the population is divided into distinct groups or “strata” based on specific characteristics such as age, gender, income, or education level. Then, random samples are taken from each stratum in proportion to their representation in the population. This ensures that each subgroup is adequately represented. For example, in a school where 60% of students are boys and 40% are girls, if the researcher wants to take a sample of 100 students, they would select 60 boys and 40 girls randomly. This ensures that the sample is more representative and avoids biases that might occur if random sampling accidentally chose more from one group.\n",
        "The key difference is that while random sampling treats all members equally, stratified sampling ensures representation of specific subgroups. Stratified sampling is particularly useful when the population is heterogeneous and contains important subgroups whose representation is crucial for accurate results."
      ],
      "metadata": {
        "id": "ZDVsbnKtJYox"
      }
    },
    {
      "cell_type": "markdown",
      "source": [
        "# 3. Define mean, median, and mode. Explain why these measures of central tendency are important.\n",
        "   - The measures of central tendency — mean, median, and mode — are among the most important concepts in statistics as they summarize a dataset by identfying the central value around which the data tends to cluster.\n",
        "The mean, also known as the arithmetic average, is calculated by dividing the sum of all observations by the total number of values. For instance, if five employees earn salaries of ₹25,000, ₹30,000, ₹35,000, ₹40,000, and ₹50,000, the mean salary is (25,000 + 30,000 + 35,000 + 40,000 + 50,000) ÷ 5 = ₹36,000. The mean is widely used in economics, education, and research as it provides a single value that represents the entire dataset.\n",
        "The median is the middle value when the data is arranged in ascending or descending order. If there is an even number of values, the median is the average of the two middle values. For example, in the dataset [15, 20, 25, 30, 35], the median is 25. The median is especially useful in skewed distributions where extreme values might distort the mean. For example, in income data, a few extremely high salaries may raise the mean significantly, but the median would give a better idea of the \"typical\" income.\n",
        "The mode is the value that occurs most frequently in the dataset. For instance, in the dataset [2, 3, 3, 4, 5], the mode is 3. Mode is particularly helpful when dealing with categorical data. For example, in a survey about favorite colors, the mode indicates the most preferred color among respondents.\n",
        "These measures are important because they simplify complex datasets into single values that are easy to interpret and compare. Businesses use them to analyze sales, governments use them to report income and population statistics, and researchers use them to summarize data trends. Together, they provide a comprehensive understanding of the data’s central point."
      ],
      "metadata": {
        "id": "3DIwzEWeJxU-"
      }
    },
    {
      "cell_type": "markdown",
      "source": [
        "# 4. Explain skewness and kurtosis. What does a positive skew imply about the data?\n",
        "  - Skewness is a statistical measure that describes the degree of asymmetry in a distribution. A distribution is said to be symmetric if the left and right sides are mirror images of each other. However, real-world data often deviates from perfect symmetry. A positively skewed distribution (right-skewed) has a long tail extending to the right, which means that most values are concentrated at the lower end, but there are a few very high values that stretch the mean upward. Examples include income levels in society where most people earn moderate salaries but a few earn extremely high incomes. A negatively skewed distribution (left-skewed), on the other hand, has a long tail on the left, where most values are concentrated at the higher end but a few very low values pull the mean down.\n",
        "Kurtosis measures the \"peakedness\" of a distribution compared to the normal distribution. A distribution with high kurtosis (leptokurtic) has heavy tails and produces more outliers than a normal distribution. A distribution with low kurtosis (platykurtic) has lighter tails and fewer outliers. Normal kurtosis (mesokurtic) represents a balance between the two.\n",
        "When a dataset exhibits positive skew, it implies that the majority of data values are relatively small or moderate, while a minority of very large values stretch the distribution to the right. This can cause the mean to be greater than the median. For decision-making, this is important because it shows that averages might be misleading — for example, reporting the mean income in a positively skewed income distribution might give the impression that people are wealthier than they really are."
      ],
      "metadata": {
        "id": "TtQ793SSKDX1"
      }
    },
    {
      "cell_type": "markdown",
      "source": [
        "# 5.  Implement a Python program to compute the mean, median, and mode of a given list of numbers.\n",
        "# numbers = [12, 15, 12, 18, 19, 12, 20, 22, 19, 19, 24, 24, 24, 26, 28]\n",
        "  -"
      ],
      "metadata": {
        "id": "5r7PsQaUKSYK"
      }
    },
    {
      "cell_type": "code",
      "source": [
        "import statistics as stats\n",
        "\n",
        "numbers = [12, 15, 12, 18, 19, 12, 20, 22, 19, 19, 24, 24, 24, 26, 28]\n",
        "\n",
        "mean_val = stats.mean(numbers)\n",
        "median_val = stats.median(numbers)\n",
        "mode_val = stats.mode(numbers)\n",
        "\n",
        "print(\"Mean:\", mean_val)\n",
        "print(\"Median:\", median_val)\n",
        "print(\"Mode:\", mode_val)\n"
      ],
      "metadata": {
        "colab": {
          "base_uri": "https://localhost:8080/"
        },
        "id": "6fWNlGBFKld6",
        "outputId": "ba3023d5-a324-426c-f844-cec23832a180"
      },
      "execution_count": 1,
      "outputs": [
        {
          "output_type": "stream",
          "name": "stdout",
          "text": [
            "Mean: 19.6\n",
            "Median: 19\n",
            "Mode: 12\n"
          ]
        }
      ]
    },
    {
      "cell_type": "markdown",
      "source": [
        "# 6. Compute the covariance and correlation coefficient between the following two datasets provided as lists in Python:\n",
        "# list_x = [10, 20, 30, 40, 50]\n",
        "# list_y = [15, 25, 35, 45, 60]"
      ],
      "metadata": {
        "id": "w03-sNovK0kZ"
      }
    },
    {
      "cell_type": "code",
      "source": [
        "import numpy as np\n",
        "\n",
        "list_x = [10, 20, 30, 40, 50]\n",
        "list_y = [15, 25, 35, 45, 60]\n",
        "\n",
        "cov_matrix = np.cov(list_x, list_y, bias=True)\n",
        "covariance = cov_matrix[0][1]\n",
        "\n",
        "correlation = np.corrcoef(list_x, list_y)[0][1]\n",
        "\n",
        "print(\"Covariance:\", covariance)\n",
        "print(\"Correlation:\", correlation)\n"
      ],
      "metadata": {
        "colab": {
          "base_uri": "https://localhost:8080/"
        },
        "id": "gXrmIgdnKyh4",
        "outputId": "d0ff2bb7-0c71-43a3-b2e7-d28f4d44e88d"
      },
      "execution_count": 2,
      "outputs": [
        {
          "output_type": "stream",
          "name": "stdout",
          "text": [
            "Covariance: 220.0\n",
            "Correlation: 0.995893206467704\n"
          ]
        }
      ]
    },
    {
      "cell_type": "markdown",
      "source": [
        "# 7. Write a Python script to draw a boxplot for the following numeric list and identify its outliers. Explain the result:\n",
        "# data = [12, 14, 14, 15, 18, 19, 19, 21, 22, 22, 23, 23, 24, 26, 29, 35]"
      ],
      "metadata": {
        "id": "LZ5lR0BNLAry"
      }
    },
    {
      "cell_type": "code",
      "source": [
        "import matplotlib.pyplot as plt\n",
        "\n",
        "data = [12, 14, 14, 15, 18, 19, 19, 21, 22, 22, 23, 23, 24, 26, 29, 35]\n",
        "\n",
        "plt.boxplot(data)\n",
        "plt.title(\"Boxplot of Data\")\n",
        "plt.show()\n"
      ],
      "metadata": {
        "colab": {
          "base_uri": "https://localhost:8080/",
          "height": 452
        },
        "id": "u32V7SweLIx8",
        "outputId": "70854d6d-1819-4e83-d27d-9b63e2230d74"
      },
      "execution_count": 3,
      "outputs": [
        {
          "output_type": "display_data",
          "data": {
            "text/plain": [
              "<Figure size 640x480 with 1 Axes>"
            ],
            "image/png": "[encoded data removed]"
          },
          "metadata": {}
        }
      ]
    },
    {
      "cell_type": "markdown",
      "source": [
        "# 8. You are working as a data analyst in an e-commerce company. The marketing team wants to know if there is a relationship between advertising spend and daily sales.\n",
        "# ● Explain how you would use covariance and correlation to explore this\n",
        "# relationship.\n",
        "# ● Write Python code to compute the correlation between the two lists:\n",
        "# advertising_spend = [200, 250, 300, 400, 500]   \n",
        "# daily_sales = [2200, 2450, 2750, 3200, 4000]"
      ],
      "metadata": {
        "id": "8o8y0aajLM9f"
      }
    },
    {
      "cell_type": "code",
      "source": [
        "advertising_spend = [200, 250, 300, 400, 500]\n",
        "daily_sales = [2200, 2450, 2750, 3200, 4000]\n",
        "\n",
        "correlation = np.corrcoef(advertising_spend, daily_sales)[0][1]\n",
        "print(\"Correlation:\", correlation)\n"
      ],
      "metadata": {
        "colab": {
          "base_uri": "https://localhost:8080/"
        },
        "id": "uZ1sQumPLj0-",
        "outputId": "7ad4c314-fb5e-4981-e660-92dd5a8bc479"
      },
      "execution_count": 4,
      "outputs": [
        {
          "output_type": "stream",
          "name": "stdout",
          "text": [
            "Correlation: 0.9935824101653329\n"
          ]
        }
      ]
    },
    {
      "cell_type": "markdown",
      "source": [
        "# 9. Your team has collected customer satisfaction survey data on a scale of\n",
        "# 1-10 and wants to understand its distribution before launching a new product.\n",
        "# ● Explain which summary statistics and visualizations (e.g. mean, standard\n",
        "# deviation, histogram) you’d use.\n",
        "# ● Write Python code to create a histogram using Matplotlib for the survey data:\n",
        "# survey_scores = [7, 8, 5, 9, 6, 7, 8, 9, 10, 4, 7, 6, 9, 8, 7]"
      ],
      "metadata": {
        "id": "42Ae1cP5Lnrg"
      }
    },
    {
      "cell_type": "code",
      "source": [
        "survey_scores = [7, 8, 5, 9, 6, 7, 8, 9, 10, 4, 7, 6, 9, 8, 7]\n",
        "\n",
        "mean_val = stats.mean(survey_scores)\n",
        "std_dev = stats.pstdev(survey_scores)\n",
        "\n",
        "print(\"Mean:\", mean_val)\n",
        "print(\"Standard Deviation:\", std_dev)\n",
        "\n",
        "plt.hist(survey_scores, bins=6, color='skyblue', edgecolor='black')\n",
        "plt.title(\"Customer Survey Scores Distribution\")\n",
        "plt.xlabel(\"Score\")\n",
        "plt.ylabel(\"Frequency\")\n",
        "plt.show()\n"
      ],
      "metadata": {
        "colab": {
          "base_uri": "https://localhost:8080/",
          "height": 507
        },
        "id": "aymazgZnLpzX",
        "outputId": "9387db89-dba6-4e67-ac20-2fa4c82ccb34"
      },
      "execution_count": 5,
      "outputs": [
        {
          "output_type": "stream",
          "name": "stdout",
          "text": [
            "Mean: 7.333333333333333\n",
            "Standard Deviation: 1.5776212754932308\n"
          ]
        },
        {
          "output_type": "display_data",
          "data": {
            "text/plain": [
              "<Figure size 640x480 with 1 Axes>"
            ],
            "image/png": "[encoded data removed]"
          },
          "metadata": {}
        }
      ]
    }
  ]
}