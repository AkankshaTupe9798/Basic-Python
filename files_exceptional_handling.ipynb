{
  "nbformat": 4,
  "nbformat_minor": 0,
  "metadata": {
    "colab": {
      "provenance": []
    },
    "kernelspec": {
      "name": "python3",
      "display_name": "Python 3"
    },
    "language_info": {
      "name": "python"
    }
  },
  "cells": [
    {
      "cell_type": "markdown",
      "source": [
        "#Files, exceptional handling, logging and memory management Questions"
      ],
      "metadata": {
        "id": "tLUFm0Rot__-"
      }
    },
    {
      "cell_type": "markdown",
      "source": [
        "# **1. What is the difference between interpreted and compiled languages?**\n",
        "   - Interpreted and compiled languages differ in how they execute source code. In a compiled language, the code is translated into machine code all at once by a compiler before it's executed, resulting in faster runtime performance. Examples include C, C++, and Rust. On the other hand, interpreted languages like Python and JavaScript use an interpreter to translate and execute the code line-by-line during runtime. This makes interpreted languages easier to debug and more flexible for development, though typically slower in execution compared to compiled languages.\n",
        "\n"
      ],
      "metadata": {
        "id": "M08lk5czuIsc"
      }
    },
    {
      "cell_type": "code",
      "source": [
        "#python(Interpreted)\n",
        "print(\"Hello from an interpreted language!\")"
      ],
      "metadata": {
        "colab": {
          "base_uri": "https://localhost:8080/"
        },
        "id": "tBcyXPYK6fyg",
        "outputId": "d4169273-66c0-4b0a-fa5b-26f40ca95a48"
      },
      "execution_count": 1,
      "outputs": [
        {
          "output_type": "stream",
          "name": "stdout",
          "text": [
            "Hello from an interpreted language!\n"
          ]
        }
      ]
    },
    {
      "cell_type": "code",
      "source": [
        "#C (Compiled)\n",
        "try:\n",
        "    result = 10 / 0\n",
        "except ZeroDivisionError:\n",
        "    print(\"You can't divide by zero!\")\n"
      ],
      "metadata": {
        "colab": {
          "base_uri": "https://localhost:8080/"
        },
        "id": "E_YCb3Jw6ffn",
        "outputId": "b4743abb-870c-4427-cc34-ac3bb12b3d18"
      },
      "execution_count": 3,
      "outputs": [
        {
          "output_type": "stream",
          "name": "stdout",
          "text": [
            "You can't divide by zero!\n"
          ]
        }
      ]
    },
    {
      "cell_type": "markdown",
      "source": [
        "# **2. What is exception handling in Python?**\n",
        "   - Exception handling in Python is a mechanism used to manage runtime errors, ensuring that the program does not crash unexpectedly. It involves using blocks such as try, except, else, and finally to detect and handle exceptions. The try block contains the code that may raise an error, and the except block catches and handles the error gracefully. Optionally, an else block can run if no error occurs, and the finally block always executes, regardless of whether an exception occurred or not. This structure allows developers to manage unforeseen issues and maintain the stability of their programs."
      ],
      "metadata": {
        "id": "cH-vOk8_y0Rm"
      }
    },
    {
      "cell_type": "code",
      "source": [
        "try:\n",
        "    result = 10 / 0\n",
        "except ZeroDivisionError:\n",
        "    print(\"You can't divide by zero!\")"
      ],
      "metadata": {
        "colab": {
          "base_uri": "https://localhost:8080/"
        },
        "id": "K06CtBWY7KQe",
        "outputId": "def938c6-1a0d-47e2-a1e5-13c3c184b5f0"
      },
      "execution_count": 4,
      "outputs": [
        {
          "output_type": "stream",
          "name": "stdout",
          "text": [
            "You can't divide by zero!\n"
          ]
        }
      ]
    },
    {
      "cell_type": "markdown",
      "source": [
        "# **3. What is the purpose of the finally block in exception handling?**\n",
        "  - The finally block in Python is used to define code that should run no matter what, whether an exception occurs or not. This is particularly useful for cleanup actions, such as closing files, releasing resources, or disconnecting from a database. Unlike except, which handles specific errors, and else, which runs only when no error occurs, the finally block is guaranteed to execute. This makes it essential in situations where certain actions must be performed to maintain program integrity."
      ],
      "metadata": {
        "id": "c5tDdgiwy8WC"
      }
    },
    {
      "cell_type": "code",
      "source": [
        "try:\n",
        "    f = open(\"nofile.txt\", \"r\")\n",
        "except FileNotFoundError:\n",
        "    print(\"File not found.\")\n",
        "finally:\n",
        "    print(\"Executing finally block.\")\n"
      ],
      "metadata": {
        "colab": {
          "base_uri": "https://localhost:8080/"
        },
        "id": "9yIVH9WF7OrA",
        "outputId": "84966ee9-8c82-4c37-9d6d-7b94017a3b80"
      },
      "execution_count": 5,
      "outputs": [
        {
          "output_type": "stream",
          "name": "stdout",
          "text": [
            "File not found.\n",
            "Executing finally block.\n"
          ]
        }
      ]
    },
    {
      "cell_type": "markdown",
      "source": [
        "# **4. What is logging in Python?**\n",
        "   - Logging in Python is a way to track events that happen while a program is running. The logging module provides a flexible framework for emitting log messages from Python programs. It allows developers to record messages with different severity levels such as DEBUG, INFO, WARNING, ERROR, and CRITICAL. These logs can be displayed on the console, written to a file, or even sent to external systems. Logging is more powerful and configurable than using print() statements and is essential for monitoring, debugging, and maintaining complex applications."
      ],
      "metadata": {
        "id": "nxN_m01azXFu"
      }
    },
    {
      "cell_type": "code",
      "source": [
        "import logging\n",
        "\n",
        "logging.basicConfig(level=logging.INFO)\n",
        "logging.info(\"This is a simple info message.\")"
      ],
      "metadata": {
        "id": "4zjDV_Ug7R9W"
      },
      "execution_count": 34,
      "outputs": []
    },
    {
      "cell_type": "markdown",
      "source": [
        "# **5. What is the significance of the __del__ method in Python?**\n",
        "  - The __del__ method in Python is known as a destructor and is called when an object is about to be destroyed by the garbage collector. It is typically used to perform cleanup operations, such as closing file handles or network connections. While it can be helpful for releasing resources, relying on __del__ is generally discouraged for critical resource management because its timing is uncertain due to Python’s garbage collection behavior. Instead, using context managers (via the with statement) is preferred for guaranteed cleanup."
      ],
      "metadata": {
        "id": "dFkxecl7z2j-"
      }
    },
    {
      "cell_type": "code",
      "source": [
        "class MyClass:\n",
        "    def __del__(self):\n",
        "        print(\"Destructor called!\")\n",
        "\n",
        "obj = MyClass()\n",
        "del obj"
      ],
      "metadata": {
        "colab": {
          "base_uri": "https://localhost:8080/"
        },
        "id": "raDCMvOn7uYV",
        "outputId": "e48d8199-dc30-49c1-8f18-32b2068bec9d"
      },
      "execution_count": 9,
      "outputs": [
        {
          "output_type": "stream",
          "name": "stdout",
          "text": [
            "Destructor called!\n"
          ]
        }
      ]
    },
    {
      "cell_type": "markdown",
      "source": [
        "# **6. What is the difference between import and from ... import in Python?**\n",
        "   - In Python, both import and from ... import are used to include modules, but they differ in usage. Using import module imports the entire module, and its contents are accessed using the module name as a prefix (e.g., math.sqrt(4)). On the other hand, from module import function imports specific functions, classes, or variables directly into the namespace, allowing them to be used without the module prefix (e.g., sqrt(4)). The from syntax is more concise but can lead to name conflicts if not used carefully."
      ],
      "metadata": {
        "id": "sG3Jq_Au0fMd"
      }
    },
    {
      "cell_type": "code",
      "source": [
        "import math\n",
        "print(math.sqrt(16))\n",
        "\n",
        "from math import sqrt\n",
        "print(sqrt(25))"
      ],
      "metadata": {
        "colab": {
          "base_uri": "https://localhost:8080/"
        },
        "id": "_hmmYEIw71Yg",
        "outputId": "b8345156-af1e-443d-e41a-87395e289a41"
      },
      "execution_count": 10,
      "outputs": [
        {
          "output_type": "stream",
          "name": "stdout",
          "text": [
            "4.0\n",
            "5.0\n"
          ]
        }
      ]
    },
    {
      "cell_type": "markdown",
      "source": [
        "# **7. How can you handle multiple exceptions in Python?**\n",
        "  - Python allows handling multiple exceptions either by grouping them in a single except clause using parentheses or by using multiple except blocks. Grouping is useful when the handling logic is the same for multiple exceptions. For example, except (TypeError, ValueError): handles both exceptions in the same way. Alternatively, individual except blocks can be used for more specific handling, allowing tailored responses for each exception type. This flexibility enhances code readability and robustness."
      ],
      "metadata": {
        "id": "9JkWEpST0uen"
      }
    },
    {
      "cell_type": "code",
      "source": [
        "try:\n",
        "    num = int(\"abc\")\n",
        "    result = 10 / num\n",
        "except ValueError:\n",
        "    print(\"Conversion error!\")\n",
        "except ZeroDivisionError:\n",
        "    print(\"Division error!\")\n"
      ],
      "metadata": {
        "colab": {
          "base_uri": "https://localhost:8080/"
        },
        "id": "mqkAXr8x78D1",
        "outputId": "eaa244a6-256a-499d-eff9-479a9f0fec98"
      },
      "execution_count": 11,
      "outputs": [
        {
          "output_type": "stream",
          "name": "stdout",
          "text": [
            "Conversion error!\n"
          ]
        }
      ]
    },
    {
      "cell_type": "markdown",
      "source": [
        "# **8. What is the purpose of the with statement when handling files in Python?**\n",
        "   - The with statement in Python is used to simplify resource management, particularly with files. It ensures that resources like file objects are properly opened and closed, even if an error occurs during file operations. When a file is opened using with open(...) as f:, Python automatically closes the file when the block is exited, eliminating the need for a finally block to close the file manually. This makes the code cleaner and more reliable."
      ],
      "metadata": {
        "id": "xZH7tiow1LP0"
      }
    },
    {
      "cell_type": "code",
      "source": [
        "with open(\"example.txt\", \"w\") as f:\n",
        "    f.write(\"Auto-close file example.\")\n",
        "\n",
        "print(\"File written and closed automatically.\")"
      ],
      "metadata": {
        "colab": {
          "base_uri": "https://localhost:8080/"
        },
        "id": "wqdk5M777-ip",
        "outputId": "c5fefd2a-119c-4eaf-c97c-e1524c8610dc"
      },
      "execution_count": 12,
      "outputs": [
        {
          "output_type": "stream",
          "name": "stdout",
          "text": [
            "File written and closed automatically.\n"
          ]
        }
      ]
    },
    {
      "cell_type": "markdown",
      "source": [
        "# **9. What is the difference between multithreading and multiprocessing?**\n",
        "   - Multithreading and multiprocessing are both techniques for achieving concurrency in Python, but they differ in execution. Multithreading involves multiple threads within the same process, sharing memory and resources. It is best suited for I/O-bound tasks like file operations and network requests. Multiprocessing, however, involves multiple processes, each with its own memory space, making it suitable for CPU-bound tasks like computations. Due to the Global Interpreter Lock (GIL), Python threads cannot run Python bytecode in true parallel, making multiprocessing a better choice for performance in CPU-intensive applications"
      ],
      "metadata": {
        "id": "BxK27wTG1aG-"
      }
    },
    {
      "cell_type": "code",
      "source": [
        "import threading\n",
        "import multiprocessing\n",
        "\n",
        "def task():\n",
        "    print(\"Running task...\")\n",
        "\n",
        "# Multithreading\n",
        "t = threading.Thread(target=task)\n",
        "t.start()\n",
        "t.join()\n",
        "\n",
        "# Multiprocessing\n",
        "p = multiprocessing.Process(target=task)\n",
        "p.start()\n",
        "p.join()\n"
      ],
      "metadata": {
        "colab": {
          "base_uri": "https://localhost:8080/"
        },
        "id": "ibMJaY1P8GBj",
        "outputId": "867d6ba0-6870-4c24-e9ee-b0ff394ce310"
      },
      "execution_count": 13,
      "outputs": [
        {
          "output_type": "stream",
          "name": "stdout",
          "text": [
            "Running task...\n",
            "Running task...\n"
          ]
        }
      ]
    },
    {
      "cell_type": "markdown",
      "source": [
        "# **10. What are the advantages of using logging in a program?**\n",
        "  - Logging provides a structured and flexible way to monitor the execution of a program. It helps in debugging by recording program behavior, tracking events, identifying errors, and providing runtime diagnostics. Unlike print statements, logging allows developers to categorize messages by severity levels and control where those messages are output, such as files, consoles, or remote logging servers. It is an essential tool for developing maintainable and observable applications."
      ],
      "metadata": {
        "id": "9GhpJRLc2QVC"
      }
    },
    {
      "cell_type": "code",
      "source": [
        "import logging\n",
        "logging.basicConfig(level=logging.WARNING)\n",
        "logging.warning(\"This is a warning.\")\n"
      ],
      "metadata": {
        "colab": {
          "base_uri": "https://localhost:8080/"
        },
        "id": "z-soEZHL8KjU",
        "outputId": "bdeca8d7-1059-4519-d8b6-158d8825260b"
      },
      "execution_count": 14,
      "outputs": [
        {
          "output_type": "stream",
          "name": "stderr",
          "text": [
            "WARNING:root:This is a warning.\n"
          ]
        }
      ]
    },
    {
      "cell_type": "markdown",
      "source": [
        "# **11. What is memory management in Python?**\n",
        "  - Memory management in Python is handled automatically using techniques like reference counting and garbage collection. Every object in Python has a reference count, and when this count drops to zero, the memory is reclaimed. Python also uses a cyclic garbage collector to identify and clean up circular references, which reference counting alone cannot handle. Additionally, developers can manage memory explicitly using the gc module to trigger garbage collection or debug memory issues."
      ],
      "metadata": {
        "id": "VcyUTh9Q2ZiB"
      }
    },
    {
      "cell_type": "code",
      "source": [
        "import gc\n",
        "\n",
        "class MyObject:\n",
        "    pass\n",
        "\n",
        "obj = MyObject()\n",
        "del obj\n",
        "print(\"Garbage collected:\", gc.collect())\n"
      ],
      "metadata": {
        "colab": {
          "base_uri": "https://localhost:8080/"
        },
        "id": "tpDhG1SG8OTJ",
        "outputId": "078af240-51fa-40f6-955f-f1d8e1a1adf9"
      },
      "execution_count": 15,
      "outputs": [
        {
          "output_type": "stream",
          "name": "stdout",
          "text": [
            "Garbage collected: 0\n"
          ]
        }
      ]
    },
    {
      "cell_type": "markdown",
      "source": [
        "# **12. What are the basic steps involved in exception handling in Python?**\n",
        "  - Exception handling in Python involves wrapping risky code in a try block, where potential exceptions may occur. If an error is raised, the corresponding except block is executed to handle the error. An optional else block can be included to execute code only if no exceptions occurred, and the finally block is always executed, regardless of whether an exception was raised or not. This structure ensures controlled and predictable error management in Python applications."
      ],
      "metadata": {
        "id": "yEtOQS6h24JP"
      }
    },
    {
      "cell_type": "code",
      "source": [
        "try:\n",
        "    x = int(\"10\")\n",
        "    y = 10 / x\n",
        "except ZeroDivisionError:\n",
        "    print(\"Division by zero.\")\n",
        "else:\n",
        "    print(\"Result:\", y)\n",
        "finally:\n",
        "    print(\"Done.\")"
      ],
      "metadata": {
        "colab": {
          "base_uri": "https://localhost:8080/"
        },
        "id": "z_XIN_ak8RWU",
        "outputId": "79e821ea-aad4-4cd3-a935-a49f0f2e5b14"
      },
      "execution_count": 16,
      "outputs": [
        {
          "output_type": "stream",
          "name": "stdout",
          "text": [
            "Result: 1.0\n",
            "Done.\n"
          ]
        }
      ]
    },
    {
      "cell_type": "markdown",
      "source": [
        "# **13. Why is memory management important in Python?**\n",
        "  - Memory management is crucial in Python to ensure efficient use of system resources and to prevent memory leaks, especially in long-running applications. Poor memory management can lead to excessive memory consumption, slower performance, or application crashes. Python's automatic memory management helps, but developers still need to write efficient code and be mindful of data structures, references, and object lifecycles."
      ],
      "metadata": {
        "id": "1zs0LwB-3O6y"
      }
    },
    {
      "cell_type": "code",
      "source": [
        "data = [i for i in range(1000000)]\n",
        "print(\"Data loaded.\")\n",
        "del data\n",
        "print(\"Memory freed.\")\n"
      ],
      "metadata": {
        "colab": {
          "base_uri": "https://localhost:8080/"
        },
        "id": "1e_8Cqd-8VHt",
        "outputId": "a54cc571-098d-4f2a-eccb-ddd0210cc5b5"
      },
      "execution_count": 17,
      "outputs": [
        {
          "output_type": "stream",
          "name": "stdout",
          "text": [
            "Data loaded.\n",
            "Memory freed.\n"
          ]
        }
      ]
    },
    {
      "cell_type": "markdown",
      "source": [
        "# **14. What is the role of try and except in exception handling?**\n",
        "   - The try block in Python is used to wrap code that might generate an exception, allowing the program to attempt execution safely. If an exception occurs, the except block catches and handles the error, preventing the program from crashing. This mechanism allows developers to deal with unexpected conditions gracefully, such as invalid input, file not found errors,or network failures."
      ],
      "metadata": {
        "id": "MRBMIpAt3nLE"
      }
    },
    {
      "cell_type": "code",
      "source": [
        "try:\n",
        "    print(10 / 0)\n",
        "except ZeroDivisionError:\n",
        "    print(\"Can't divide by zero.\")\n"
      ],
      "metadata": {
        "colab": {
          "base_uri": "https://localhost:8080/"
        },
        "id": "0mksCt1R8ZN1",
        "outputId": "08d23e04-c8d1-48ad-f9d0-bd9ebe656870"
      },
      "execution_count": 18,
      "outputs": [
        {
          "output_type": "stream",
          "name": "stdout",
          "text": [
            "Can't divide by zero.\n"
          ]
        }
      ]
    },
    {
      "cell_type": "markdown",
      "source": [
        "# **15. How does Python's garbage collection system work?**\n",
        "  -  Python’s garbage collection system is primarily based on reference counting. Each object has a count of references pointing to it. When this count reaches zero, the object is automatically deleted. However, reference counting alone cannot handle circular references (objects referring to each other). To manage such cases, Python also includes a cyclic garbage collector that periodically detects and frees such objects. Developers can interact with the garbage collector using the gc module to trigger or control its behavior."
      ],
      "metadata": {
        "id": "IbFxk0YV4QUB"
      }
    },
    {
      "cell_type": "code",
      "source": [
        "import gc\n",
        "\n",
        "class Node:\n",
        "    def __init__(self):\n",
        "        self.ref = self\n",
        "\n",
        "a = Node()\n",
        "del a\n",
        "print(\"Collecting garbage:\", gc.collect())\n"
      ],
      "metadata": {
        "colab": {
          "base_uri": "https://localhost:8080/"
        },
        "id": "zcJCWhgk8dCD",
        "outputId": "4278cc08-b0b7-4582-e279-74a677b507c6"
      },
      "execution_count": 20,
      "outputs": [
        {
          "output_type": "stream",
          "name": "stdout",
          "text": [
            "Collecting garbage: 7\n"
          ]
        }
      ]
    },
    {
      "cell_type": "markdown",
      "source": [
        "# **16. What is the purpose of the else block in exception handling?**\n",
        "  - The else block in Python’s exception handling structure is executed only if the try block does not raise an exception. It allows developers to write code that should run only when everything goes well, keeping the logic separate from error handling. This makes the code cleaner and helps maintain a clear separation of responsibilities in a try-except-else-finally construct."
      ],
      "metadata": {
        "id": "cuvJXY_04ctn"
      }
    },
    {
      "cell_type": "code",
      "source": [
        "try:\n",
        "    print(\"No error here.\")\n",
        "except:\n",
        "    print(\"Error occurred.\")\n",
        "else:\n",
        "    print(\"This runs if no exception.\")\n"
      ],
      "metadata": {
        "colab": {
          "base_uri": "https://localhost:8080/"
        },
        "id": "0ANv8l5n8oLR",
        "outputId": "6f633572-335e-4058-c53c-e01173b4f1bb"
      },
      "execution_count": 21,
      "outputs": [
        {
          "output_type": "stream",
          "name": "stdout",
          "text": [
            "No error here.\n",
            "This runs if no exception.\n"
          ]
        }
      ]
    },
    {
      "cell_type": "markdown",
      "source": [
        "# **17. What are the common logging levels in Python?**\n",
        "   - Python’s logging module defines several standard log levels to categorize messages. These include DEBUG for detailed information useful in development, INFO for general messages, WARNING for potential issues, ERROR for runtime errors, and CRITICAL for serious errors that may cause the program to terminate. These levels help filter logs and prioritize attention based on severity."
      ],
      "metadata": {
        "id": "9LCx7SwG4jcL"
      }
    },
    {
      "cell_type": "code",
      "source": [
        "import logging\n",
        "\n",
        "logging.basicConfig(level=logging.DEBUG)\n",
        "logging.debug(\"Debug\")\n",
        "logging.info(\"Info\")\n",
        "logging.warning(\"Warning\")\n",
        "logging.error(\"Error\")\n",
        "logging.critical(\"Critical\")\n"
      ],
      "metadata": {
        "colab": {
          "base_uri": "https://localhost:8080/"
        },
        "id": "bjgW5NTX8tPw",
        "outputId": "4620c148-3e0f-439b-a32c-fb105389dadb"
      },
      "execution_count": 22,
      "outputs": [
        {
          "output_type": "stream",
          "name": "stderr",
          "text": [
            "WARNING:root:Warning\n",
            "ERROR:root:Error\n",
            "CRITICAL:root:Critical\n"
          ]
        }
      ]
    },
    {
      "cell_type": "markdown",
      "source": [
        "# **18. What is the difference between os.fork() and multiprocessing in Python?**\n",
        "   - The os.fork() method is a low-level system call available only on UNIX-like systems. It creates a new process by duplicating the current one. It’s powerful but lacks portability and safety. On the other hand, the multiprocessing module provides a high-level, cross-platform interface for creating and managing separate processes. It is safer, easier to use, and preferred for writing concurrent Python applications, especially when targeting multiple platforms."
      ],
      "metadata": {
        "id": "IDmEzlrT46GE"
      }
    },
    {
      "cell_type": "code",
      "source": [
        "import multiprocessing\n",
        "\n",
        "def run():\n",
        "    print(\"Inside child process.\")\n",
        "\n",
        "p = multiprocessing.Process(target=run)\n",
        "p.start()\n",
        "p.join()\n"
      ],
      "metadata": {
        "colab": {
          "base_uri": "https://localhost:8080/"
        },
        "id": "7dmqNnBi8yRp",
        "outputId": "067882b8-8ea2-4c77-f175-c94ee6f27bef"
      },
      "execution_count": 23,
      "outputs": [
        {
          "output_type": "stream",
          "name": "stdout",
          "text": [
            "Inside child process.\n"
          ]
        }
      ]
    },
    {
      "cell_type": "markdown",
      "source": [
        "# **19. What is the importance of closing a file in Python?**\n",
        "   - Closing a file in Python is essential because it releases the system resources that were allocated for file handling. When a file is open, it consumes system resources such as file descriptors, and leaving it open unnecessarily can lead to memory leaks or file corruption. If you forget to close a file after writing, changes may not be saved properly due to buffered I/O. Python provides the close() method to explicitly close a file, and it's considered best practice to do so. However, using the with statement is even better because it ensures that the file is closed automatically, even if an exception occurs during file operations."
      ],
      "metadata": {
        "id": "hpKyM2KI5InK"
      }
    },
    {
      "cell_type": "code",
      "source": [
        "f = open(\"close_demo.txt\", \"w\")\n",
        "f.write(\"Some data.\")\n",
        "f.close()\n",
        "print(\"File closed manually.\")\n"
      ],
      "metadata": {
        "colab": {
          "base_uri": "https://localhost:8080/"
        },
        "id": "5hSzBwOu85J3",
        "outputId": "e5dbf21c-99c0-4ebc-8d69-e5dcd13383aa"
      },
      "execution_count": 24,
      "outputs": [
        {
          "output_type": "stream",
          "name": "stdout",
          "text": [
            "File closed manually.\n"
          ]
        }
      ]
    },
    {
      "cell_type": "markdown",
      "source": [
        "# **20. What is the difference between file.read() and file.readline() in Python?**\n",
        "   - The file.read() method reads the entire contents of a file and returns it as a single string. It is suitable for small files where you need to access everything at once. In contrast, file.readline() reads the file line by line, returning one line at a time. It is more memory-efficient for large files because it doesn't load the whole file into memory. For example, if you're processing a large log file, readline() or iterating over the file object with a for loop is preferred to avoid memory overflow."
      ],
      "metadata": {
        "id": "OKZ711X75XJN"
      }
    },
    {
      "cell_type": "code",
      "source": [
        "with open(\"demo.txt\", \"w\") as f:\n",
        "    f.write(\"Line1\\nLine2\\nLine3\")\n",
        "\n",
        "with open(\"demo.txt\", \"r\") as f:\n",
        "    print(\"Using read():\", f.read())\n",
        "\n",
        "with open(\"demo.txt\", \"r\") as f:\n",
        "    print(\"Using readline():\", f.readline())\n"
      ],
      "metadata": {
        "colab": {
          "base_uri": "https://localhost:8080/"
        },
        "id": "GddDDf5Z875I",
        "outputId": "2f8343fb-7489-46e5-bda1-cd0f77d0860c"
      },
      "execution_count": 25,
      "outputs": [
        {
          "output_type": "stream",
          "name": "stdout",
          "text": [
            "Using read(): Line1\n",
            "Line2\n",
            "Line3\n",
            "Using readline(): Line1\n",
            "\n"
          ]
        }
      ]
    },
    {
      "cell_type": "markdown",
      "source": [
        "# **21. What is the logging module in Python used for?**\n",
        "   - The logging module in Python provides a flexible and standardized way to log messages from your application. It is used for tracking events, debugging, and monitoring program execution. Unlike simple print statements, the logging module supports different severity levels (such as DEBUG, INFO, WARNING, ERROR, and CRITICAL), timestamps, log formatting, and output destinations (like console, files, or remote servers). This makes it invaluable for building maintainable and production-ready software, especially when dealing with large systems where visibility into application behavior is critical."
      ],
      "metadata": {
        "id": "ONCVHU7Y5hQN"
      }
    },
    {
      "cell_type": "code",
      "source": [
        "import logging\n",
        "\n",
        "logging.basicConfig(filename='log.txt', level=logging.ERROR)\n",
        "logging.error(\"This is an error message.\")"
      ],
      "metadata": {
        "colab": {
          "base_uri": "https://localhost:8080/"
        },
        "id": "54wvNmzD9non",
        "outputId": "8501e94d-5fe1-4f41-e1f9-9725be69f3bc"
      },
      "execution_count": 32,
      "outputs": [
        {
          "output_type": "stream",
          "name": "stderr",
          "text": [
            "ERROR:root:This is an error message.\n"
          ]
        }
      ]
    },
    {
      "cell_type": "markdown",
      "source": [
        "# **22. What is the os module in Python used for in file handling?**\n",
        "   - The os module in Python provides a variety of functions to interact with the operating system, particularly for file and directory management. With os, you can perform operations like creating, renaming, and deleting files and directories; navigating the file system; checking file paths; and accessing environment variables. For example, os.mkdir() creates a new directory, os.remove() deletes a file, and os.path.exists() checks if a file exists. This module is especially useful for building scripts or applications that need to interact dynamically with the system's file structure."
      ],
      "metadata": {
        "id": "8Ari5P035qp_"
      }
    },
    {
      "cell_type": "code",
      "source": [
        "import os\n",
        "\n",
        "os.mkdir(\"my_folder\")\n",
        "print(\"Directory created.\")\n",
        "os.rmdir(\"my_folder\")\n",
        "print(\"Directory removed.\")\n"
      ],
      "metadata": {
        "colab": {
          "base_uri": "https://localhost:8080/"
        },
        "id": "bVIx6Itj9uhg",
        "outputId": "d9b4e181-a607-4448-f441-0403d86b0da2"
      },
      "execution_count": 28,
      "outputs": [
        {
          "output_type": "stream",
          "name": "stdout",
          "text": [
            "Directory created.\n",
            "Directory removed.\n"
          ]
        }
      ]
    },
    {
      "cell_type": "markdown",
      "source": [
        "# **23. What are the challenges associated with memory management in Python?**\n",
        "  - While Python provides automatic memory management using reference counting and garbage collection, there are still several challenges developers must be aware of. One issue is circular references, where two or more objects refer to each other, preventing their reference count from dropping to zero. Although the garbage collector can handle cycles, it may not do so immediately, leading to temporary memory bloat. Other challenges include memory leaks caused by retaining unused objects in memory (like large lists or caches) and inefficiencies when dealing with large data sets. Developers must also be careful with external libraries that may not manage memory effectively."
      ],
      "metadata": {
        "id": "nlbDJHH_5zJc"
      }
    },
    {
      "cell_type": "code",
      "source": [
        "import gc\n",
        "\n",
        "class A:\n",
        "    def __init__(self):\n",
        "        self.b = self\n",
        "\n",
        "a = A()\n",
        "del a\n",
        "print(\"Collected:\", gc.collect())\n"
      ],
      "metadata": {
        "colab": {
          "base_uri": "https://localhost:8080/"
        },
        "id": "G-AEpwMm9x8G",
        "outputId": "2b77e067-f41a-4afd-c2fb-ffd7e8337d9a"
      },
      "execution_count": 29,
      "outputs": [
        {
          "output_type": "stream",
          "name": "stdout",
          "text": [
            "Collected: 53\n"
          ]
        }
      ]
    },
    {
      "cell_type": "markdown",
      "source": [
        "# **24. How do you raise an exception manually in Python?**\n",
        "   - In Python, you can raise exceptions manually using the raise keyword followed by an exception class. This is useful for enforcing rules, validating input, or simulating error conditions. For instance, if a function should only accept positive numbers, you might raise a ValueError if a negative number is passed. The syntax is straightforward: raise ValueError(\"Input must be positive\"). You can raise built-in exceptions or define custom exception classes using Python’s class mechanism by subclassing Exception."
      ],
      "metadata": {
        "id": "KQD_tRYr57ZL"
      }
    },
    {
      "cell_type": "code",
      "source": [
        "age = -5\n",
        "if age < 0:\n",
        "    raise ValueError(\"Age can't be negative.\")\n"
      ],
      "metadata": {
        "colab": {
          "base_uri": "https://localhost:8080/",
          "height": 176
        },
        "id": "U86qmuVF91ba",
        "outputId": "39e2e17c-14b2-4130-e283-d6987fd8b937"
      },
      "execution_count": 30,
      "outputs": [
        {
          "output_type": "error",
          "ename": "ValueError",
          "evalue": "Age can't be negative.",
          "traceback": [
            "\u001b[0;31m---------------------------------------------------------------------------\u001b[0m",
            "\u001b[0;31mValueError\u001b[0m                                Traceback (most recent call last)",
            "\u001b[0;32m/tmp/ipython-input-2122366730.py\u001b[0m in \u001b[0;36m<cell line: 0>\u001b[0;34m()\u001b[0m\n\u001b[1;32m      1\u001b[0m \u001b[0mage\u001b[0m \u001b[0;34m=\u001b[0m \u001b[0;34m-\u001b[0m\u001b[0;36m5\u001b[0m\u001b[0;34m\u001b[0m\u001b[0;34m\u001b[0m\u001b[0m\n\u001b[1;32m      2\u001b[0m \u001b[0;32mif\u001b[0m \u001b[0mage\u001b[0m \u001b[0;34m<\u001b[0m \u001b[0;36m0\u001b[0m\u001b[0;34m:\u001b[0m\u001b[0;34m\u001b[0m\u001b[0;34m\u001b[0m\u001b[0m\n\u001b[0;32m----> 3\u001b[0;31m     \u001b[0;32mraise\u001b[0m \u001b[0mValueError\u001b[0m\u001b[0;34m(\u001b[0m\u001b[0;34m\"Age can't be negative.\"\u001b[0m\u001b[0;34m)\u001b[0m\u001b[0;34m\u001b[0m\u001b[0;34m\u001b[0m\u001b[0m\n\u001b[0m",
            "\u001b[0;31mValueError\u001b[0m: Age can't be negative."
          ]
        }
      ]
    },
    {
      "cell_type": "markdown",
      "source": [
        "# **25. Why is it important to use multithreading in certain applications?**\n",
        "  - Multithreading is important in applications that involve I/O-bound tasks, such as reading from files, accessing databases, or handling network requests. In these scenarios, while one thread waits for an external operation to complete, other threads can continue executing, resulting in better responsiveness and resource utilization. For example, a web server can use multithreading to handle multiple client requests simultaneously. Although Python’s Global Interpreter Lock (GIL) limits the effectiveness of multithreading for CPU-bound tasks, it still provides significant benefits for applications where tasks spend a lot of time waiting for I/O operations."
      ],
      "metadata": {
        "id": "1Q2rhp3n6Dkx"
      }
    },
    {
      "cell_type": "code",
      "source": [
        "import threading\n",
        "import time\n",
        "\n",
        "def task():\n",
        "    print(\"Task started.\")\n",
        "    time.sleep(2)\n",
        "    print(\"Task finished.\")\n",
        "\n",
        "t1 = threading.Thread(target=task)\n",
        "t2 = threading.Thread(target=task)\n",
        "\n",
        "t1.start()\n",
        "t2.start()\n"
      ],
      "metadata": {
        "colab": {
          "base_uri": "https://localhost:8080/"
        },
        "id": "nU5FRO2q96HM",
        "outputId": "2f328df7-0189-475e-ab00-64efcd7beca3"
      },
      "execution_count": 31,
      "outputs": [
        {
          "output_type": "stream",
          "name": "stdout",
          "text": [
            "Task started.\n",
            "Task started.\n"
          ]
        }
      ]
    },
    {
      "cell_type": "markdown",
      "source": [
        "# **Practical Questions**"
      ],
      "metadata": {
        "id": "KUvdnTS--e06"
      }
    },
    {
      "cell_type": "markdown",
      "source": [
        "# 1. How can you open a file for writing in Python and write a string to it?"
      ],
      "metadata": {
        "id": "6EMTnEYW-hm_"
      }
    },
    {
      "cell_type": "code",
      "source": [
        "with open(\"file1.txt\", \"w\") as f:\n",
        "    f.write(\"Hello, Python!\")\n",
        "\n",
        "print(\"Data written to 'file1.txt'.\")\n"
      ],
      "metadata": {
        "colab": {
          "base_uri": "https://localhost:8080/"
        },
        "id": "B6YeBODhBuhB",
        "outputId": "5452a021-0409-4d89-da3a-873da7d8d171"
      },
      "execution_count": 45,
      "outputs": [
        {
          "output_type": "stream",
          "name": "stdout",
          "text": [
            "Data written to 'file1.txt'.\n"
          ]
        }
      ]
    },
    {
      "cell_type": "markdown",
      "source": [
        "# 2. Write a Python program to read the contents of a file and print each line."
      ],
      "metadata": {
        "id": "rp-EqUlu_O9c"
      }
    },
    {
      "cell_type": "code",
      "source": [
        "with open(\"example.txt\", \"r\") as f:\n",
        "    for line in f:\n",
        "        print(line.strip())\n"
      ],
      "metadata": {
        "colab": {
          "base_uri": "https://localhost:8080/"
        },
        "id": "dmVWtqKIBvau",
        "outputId": "39194bc4-5853-4101-a34e-9eef9f373957"
      },
      "execution_count": 38,
      "outputs": [
        {
          "output_type": "stream",
          "name": "stdout",
          "text": [
            "Hello, world!\n"
          ]
        }
      ]
    },
    {
      "cell_type": "markdown",
      "source": [
        "# 3. How would you handle a case where the file doesn't exist while trying to open it for reading?"
      ],
      "metadata": {
        "id": "3Bedf8qZ_Vyf"
      }
    },
    {
      "cell_type": "code",
      "source": [
        "try:\n",
        "    with open(\"missing.txt\", \"r\") as f:\n",
        "        print(f.read())\n",
        "except FileNotFoundError:\n",
        "    print(\"File does not exist.\")\n"
      ],
      "metadata": {
        "colab": {
          "base_uri": "https://localhost:8080/"
        },
        "id": "qFDyYb3LBv97",
        "outputId": "b2d2aaf0-1813-491e-9a30-03d50ca3939a"
      },
      "execution_count": 39,
      "outputs": [
        {
          "output_type": "stream",
          "name": "stdout",
          "text": [
            "File does not exist.\n"
          ]
        }
      ]
    },
    {
      "cell_type": "markdown",
      "source": [
        "# 4. Write a Python script that reads from one file and writes its content to another file."
      ],
      "metadata": {
        "id": "EbUhbpi5_bfe"
      }
    },
    {
      "cell_type": "code",
      "source": [
        "with open(\"file1.txt\", \"r\") as source, open(\"file2.txt\", \"w\") as target:\n",
        "    for line in source:\n",
        "        target.write(line)\n",
        "\n",
        "print(\"Content copied to 'file2.txt'.\")\n"
      ],
      "metadata": {
        "colab": {
          "base_uri": "https://localhost:8080/"
        },
        "id": "pLVq_CSGBwYP",
        "outputId": "d694f411-fa6d-4148-c6e1-c05db610bc0b"
      },
      "execution_count": 46,
      "outputs": [
        {
          "output_type": "stream",
          "name": "stdout",
          "text": [
            "Content copied to 'file2.txt'.\n"
          ]
        }
      ]
    },
    {
      "cell_type": "markdown",
      "source": [
        "# 5. How would you catch and handle division by zero error in Python?"
      ],
      "metadata": {
        "id": "tjRKkzeL_f1X"
      }
    },
    {
      "cell_type": "code",
      "source": [
        "try:\n",
        "    result = 10 / 0\n",
        "except ZeroDivisionError:\n",
        "    print(\"Cannot divide by zero.\")\n"
      ],
      "metadata": {
        "colab": {
          "base_uri": "https://localhost:8080/"
        },
        "id": "LJIAg7WSBw9Y",
        "outputId": "0b873455-8f98-4c4e-8a89-b5c3cd6b6154"
      },
      "execution_count": 47,
      "outputs": [
        {
          "output_type": "stream",
          "name": "stdout",
          "text": [
            "Cannot divide by zero.\n"
          ]
        }
      ]
    },
    {
      "cell_type": "markdown",
      "source": [
        "# 6. Write a Python program that logs an error message to a log file when a division by zero exception occurs."
      ],
      "metadata": {
        "id": "W7iz_xUd_kA6"
      }
    },
    {
      "cell_type": "code",
      "source": [
        "import logging\n",
        "logging.basicConfig(filename='error.log', level=logging.ERROR)\n",
        "\n",
        "try:\n",
        "    x = 5 / 0\n",
        "except ZeroDivisionError as e:\n",
        "    logging.error(\"Division by zero occurred: %s\", e)\n",
        "\n",
        "print(\"Error logged to 'error.log'.\")\n"
      ],
      "metadata": {
        "colab": {
          "base_uri": "https://localhost:8080/"
        },
        "id": "v1vfGof8BxVV",
        "outputId": "f057081b-be7d-4bb2-fc01-9850f312865e"
      },
      "execution_count": 48,
      "outputs": [
        {
          "output_type": "stream",
          "name": "stderr",
          "text": [
            "ERROR:root:Division by zero occurred: division by zero\n"
          ]
        },
        {
          "output_type": "stream",
          "name": "stdout",
          "text": [
            "Error logged to 'error.log'.\n"
          ]
        }
      ]
    },
    {
      "cell_type": "markdown",
      "source": [
        "# 7. How do you log information at different levels (INFO, ERROR, WARNING) in Python using the logging module?"
      ],
      "metadata": {
        "id": "Y_m98W1N_rB1"
      }
    },
    {
      "cell_type": "code",
      "source": [
        "import logging\n",
        "\n",
        "logging.basicConfig(level=logging.DEBUG)\n",
        "logging.info(\"Info message\")\n",
        "logging.warning(\"Warning message\")\n",
        "logging.error(\"Error message\")\n"
      ],
      "metadata": {
        "colab": {
          "base_uri": "https://localhost:8080/"
        },
        "id": "4uWDOq3XBx0C",
        "outputId": "11c420de-0bca-4bc7-c1f7-b4eb87e12052"
      },
      "execution_count": 49,
      "outputs": [
        {
          "output_type": "stream",
          "name": "stderr",
          "text": [
            "WARNING:root:Warning message\n",
            "ERROR:root:Error message\n"
          ]
        }
      ]
    },
    {
      "cell_type": "markdown",
      "source": [
        "# 8. Write a program to handle a file opening error using exception handling."
      ],
      "metadata": {
        "id": "-pTbD3SG_vve"
      }
    },
    {
      "cell_type": "code",
      "source": [
        "try:\n",
        "    with open(\"missing_file.txt\", \"r\") as f:\n",
        "        print(f.read())\n",
        "except FileNotFoundError:\n",
        "    print(\"Error: File not found.\")\n"
      ],
      "metadata": {
        "colab": {
          "base_uri": "https://localhost:8080/"
        },
        "id": "IaEFLZNVByIo",
        "outputId": "19c3c558-64a6-4223-cd74-f819d3228425"
      },
      "execution_count": 50,
      "outputs": [
        {
          "output_type": "stream",
          "name": "stdout",
          "text": [
            "Error: File not found.\n"
          ]
        }
      ]
    },
    {
      "cell_type": "markdown",
      "source": [
        "# 9. How can you read a file line by line and store its content in a list in Python?"
      ],
      "metadata": {
        "id": "FWy2Xykr_1xA"
      }
    },
    {
      "cell_type": "code",
      "source": [
        "with open(\"file1.txt\", \"r\") as f:\n",
        "    lines = [line.strip() for line in f]\n",
        "\n",
        "print(lines)\n"
      ],
      "metadata": {
        "colab": {
          "base_uri": "https://localhost:8080/"
        },
        "id": "jSaZfd2IBzbJ",
        "outputId": "312d5022-1354-4e9e-b3eb-2d854242ff58"
      },
      "execution_count": 51,
      "outputs": [
        {
          "output_type": "stream",
          "name": "stdout",
          "text": [
            "['Hello, Python!']\n"
          ]
        }
      ]
    },
    {
      "cell_type": "markdown",
      "source": [
        "# 10. How can you append data to an existing file in Python?"
      ],
      "metadata": {
        "id": "zByv2V-p_6wM"
      }
    },
    {
      "cell_type": "code",
      "source": [
        "with open(\"file1.txt\", \"a\") as f:\n",
        "    f.write(\"\\nAppended line.\")\n",
        "\n",
        "print(\"Data appended to 'file1.txt'.\")\n"
      ],
      "metadata": {
        "colab": {
          "base_uri": "https://localhost:8080/"
        },
        "id": "dEXVvK2rBzGC",
        "outputId": "fb29241b-e43a-4698-d5a6-2a19ac075d16"
      },
      "execution_count": 52,
      "outputs": [
        {
          "output_type": "stream",
          "name": "stdout",
          "text": [
            "Data appended to 'file1.txt'.\n"
          ]
        }
      ]
    },
    {
      "cell_type": "markdown",
      "source": [
        "# **11. Write a Python program that uses a try-except block to handle an error when attempting to access adictionary key that doesn't exist.**"
      ],
      "metadata": {
        "id": "MAkpmK9yAAz2"
      }
    },
    {
      "cell_type": "code",
      "source": [
        "data = {\"name\": \"Alice\"}\n",
        "\n",
        "try:\n",
        "    print(data[\"age\"])\n",
        "except KeyError:\n",
        "    print(\"Key 'age' not found.\")\n"
      ],
      "metadata": {
        "colab": {
          "base_uri": "https://localhost:8080/"
        },
        "id": "POw20N4oBy1k",
        "outputId": "b5c2ce65-b5fb-405d-9c92-10c244bdcafc"
      },
      "execution_count": 53,
      "outputs": [
        {
          "output_type": "stream",
          "name": "stdout",
          "text": [
            "Key 'age' not found.\n"
          ]
        }
      ]
    },
    {
      "cell_type": "markdown",
      "source": [
        "# 12. Write a program that demonstrates using multiple except blocks to handle different types of exceptions"
      ],
      "metadata": {
        "id": "LxinPlZmAK0C"
      }
    },
    {
      "cell_type": "code",
      "source": [
        "try:\n",
        "    num = int(\"abc\")\n",
        "    result = 10 / num\n",
        "except ValueError:\n",
        "    print(\"ValueError occurred.\")\n",
        "except ZeroDivisionError:\n",
        "    print(\"ZeroDivisionError occurred.\")\n"
      ],
      "metadata": {
        "colab": {
          "base_uri": "https://localhost:8080/"
        },
        "id": "8TQpMBDKB0ey",
        "outputId": "109ec39b-0c64-490a-b25b-2888cddcc11b"
      },
      "execution_count": 54,
      "outputs": [
        {
          "output_type": "stream",
          "name": "stdout",
          "text": [
            "ValueError occurred.\n"
          ]
        }
      ]
    },
    {
      "cell_type": "markdown",
      "source": [
        "# 13. How would you check if a file exists before attempting to read it in Python?"
      ],
      "metadata": {
        "id": "X9xYBmmjASG2"
      }
    },
    {
      "cell_type": "code",
      "source": [
        "import os\n",
        "\n",
        "if os.path.exists(\"file1.txt\"):\n",
        "    print(\"File exists.\")\n",
        "else:\n",
        "    print(\"File not found.\")\n"
      ],
      "metadata": {
        "colab": {
          "base_uri": "https://localhost:8080/"
        },
        "id": "YAlvaOjNB0-i",
        "outputId": "ae5afcc3-15aa-44b3-82d0-6d8ddbfb22b9"
      },
      "execution_count": 55,
      "outputs": [
        {
          "output_type": "stream",
          "name": "stdout",
          "text": [
            "File exists.\n"
          ]
        }
      ]
    },
    {
      "cell_type": "markdown",
      "source": [
        "# 14. Write a program that uses the logging module to log both informational and error messages."
      ],
      "metadata": {
        "id": "dAKJf2HDAXTO"
      }
    },
    {
      "cell_type": "code",
      "source": [
        "import logging\n",
        "\n",
        "logging.basicConfig(filename=\"app.log\", level=logging.INFO)\n",
        "logging.info(\"Starting application.\")\n",
        "try:\n",
        "    10 / 0\n",
        "except ZeroDivisionError:\n",
        "    logging.error(\"Attempted division by zero.\")\n",
        "print(\"Logs written to 'app.log'.\")\n"
      ],
      "metadata": {
        "colab": {
          "base_uri": "https://localhost:8080/"
        },
        "id": "uBc1_JfEB1eN",
        "outputId": "b1df242b-b997-4575-ed3e-13517a8e5de2"
      },
      "execution_count": 56,
      "outputs": [
        {
          "output_type": "stream",
          "name": "stderr",
          "text": [
            "ERROR:root:Attempted division by zero.\n"
          ]
        },
        {
          "output_type": "stream",
          "name": "stdout",
          "text": [
            "Logs written to 'app.log'.\n"
          ]
        }
      ]
    },
    {
      "cell_type": "markdown",
      "source": [
        "# 15.  Write a Python program that prints the content of a file and handles the case when the file is empty."
      ],
      "metadata": {
        "id": "edBLSVimAeoF"
      }
    },
    {
      "cell_type": "code",
      "source": [
        "with open(\"empty.txt\", \"w\") as f:\n",
        "    pass  # create empty file\n",
        "\n",
        "with open(\"empty.txt\", \"r\") as f:\n",
        "    content = f.read()\n",
        "\n",
        "if not content:\n",
        "    print(\"File is empty.\")\n",
        "else:\n",
        "    print(content)\n"
      ],
      "metadata": {
        "colab": {
          "base_uri": "https://localhost:8080/"
        },
        "id": "afQed2Y7B22D",
        "outputId": "bf692137-2cb6-4c7d-9f00-235057d0066c"
      },
      "execution_count": 57,
      "outputs": [
        {
          "output_type": "stream",
          "name": "stdout",
          "text": [
            "File is empty.\n"
          ]
        }
      ]
    },
    {
      "cell_type": "markdown",
      "source": [
        "# 16. Demonstrate how to use memory profiling to check the memory usage of a small program."
      ],
      "metadata": {
        "id": "ggb2w-crAmHV"
      }
    },
    {
      "cell_type": "code",
      "source": [
        "from memory_profiler import profile\n",
        "\n",
        "@profile\n",
        "def create_list():\n",
        "    return [i for i in range(10000)]\n",
        "\n",
        "create_list()\n"
      ],
      "metadata": {
        "colab": {
          "base_uri": "https://localhost:8080/"
        },
        "id": "Q7Kv9glEED9s",
        "outputId": "c1b5fd31-5369-4025-be9e-c962dcb7c4d5"
      },
      "execution_count": 59,
      "outputs": [
        {
          "output_type": "stream",
          "name": "stdout",
          "text": [
            "ERROR: Could not find file /tmp/ipython-input-1464369219.py\n"
          ]
        },
        {
          "output_type": "execute_result",
          "data": {
            "text/plain": [
              "[0,\n",
              " 1,\n",
              " 2,\n",
              " 3,\n",
              " 4,\n",
              " 5,\n",
              " 6,\n",
              " 7,\n",
              " 8,\n",
              " 9,\n",
              " 10,\n",
              " 11,\n",
              " 12,\n",
              " 13,\n",
              " 14,\n",
              " 15,\n",
              " 16,\n",
              " 17,\n",
              " 18,\n",
              " 19,\n",
              " 20,\n",
              " 21,\n",
              " 22,\n",
              " 23,\n",
              " 24,\n",
              " 25,\n",
              " 26,\n",
              " 27,\n",
              " 28,\n",
              " 29,\n",
              " 30,\n",
              " 31,\n",
              " 32,\n",
              " 33,\n",
              " 34,\n",
              " 35,\n",
              " 36,\n",
              " 37,\n",
              " 38,\n",
              " 39,\n",
              " 40,\n",
              " 41,\n",
              " 42,\n",
              " 43,\n",
              " 44,\n",
              " 45,\n",
              " 46,\n",
              " 47,\n",
              " 48,\n",
              " 49,\n",
              " 50,\n",
              " 51,\n",
              " 52,\n",
              " 53,\n",
              " 54,\n",
              " 55,\n",
              " 56,\n",
              " 57,\n",
              " 58,\n",
              " 59,\n",
              " 60,\n",
              " 61,\n",
              " 62,\n",
              " 63,\n",
              " 64,\n",
              " 65,\n",
              " 66,\n",
              " 67,\n",
              " 68,\n",
              " 69,\n",
              " 70,\n",
              " 71,\n",
              " 72,\n",
              " 73,\n",
              " 74,\n",
              " 75,\n",
              " 76,\n",
              " 77,\n",
              " 78,\n",
              " 79,\n",
              " 80,\n",
              " 81,\n",
              " 82,\n",
              " 83,\n",
              " 84,\n",
              " 85,\n",
              " 86,\n",
              " 87,\n",
              " 88,\n",
              " 89,\n",
              " 90,\n",
              " 91,\n",
              " 92,\n",
              " 93,\n",
              " 94,\n",
              " 95,\n",
              " 96,\n",
              " 97,\n",
              " 98,\n",
              " 99,\n",
              " 100,\n",
              " 101,\n",
              " 102,\n",
              " 103,\n",
              " 104,\n",
              " 105,\n",
              " 106,\n",
              " 107,\n",
              " 108,\n",
              " 109,\n",
              " 110,\n",
              " 111,\n",
              " 112,\n",
              " 113,\n",
              " 114,\n",
              " 115,\n",
              " 116,\n",
              " 117,\n",
              " 118,\n",
              " 119,\n",
              " 120,\n",
              " 121,\n",
              " 122,\n",
              " 123,\n",
              " 124,\n",
              " 125,\n",
              " 126,\n",
              " 127,\n",
              " 128,\n",
              " 129,\n",
              " 130,\n",
              " 131,\n",
              " 132,\n",
              " 133,\n",
              " 134,\n",
              " 135,\n",
              " 136,\n",
              " 137,\n",
              " 138,\n",
              " 139,\n",
              " 140,\n",
              " 141,\n",
              " 142,\n",
              " 143,\n",
              " 144,\n",
              " 145,\n",
              " 146,\n",
              " 147,\n",
              " 148,\n",
              " 149,\n",
              " 150,\n",
              " 151,\n",
              " 152,\n",
              " 153,\n",
              " 154,\n",
              " 155,\n",
              " 156,\n",
              " 157,\n",
              " 158,\n",
              " 159,\n",
              " 160,\n",
              " 161,\n",
              " 162,\n",
              " 163,\n",
              " 164,\n",
              " 165,\n",
              " 166,\n",
              " 167,\n",
              " 168,\n",
              " 169,\n",
              " 170,\n",
              " 171,\n",
              " 172,\n",
              " 173,\n",
              " 174,\n",
              " 175,\n",
              " 176,\n",
              " 177,\n",
              " 178,\n",
              " 179,\n",
              " 180,\n",
              " 181,\n",
              " 182,\n",
              " 183,\n",
              " 184,\n",
              " 185,\n",
              " 186,\n",
              " 187,\n",
              " 188,\n",
              " 189,\n",
              " 190,\n",
              " 191,\n",
              " 192,\n",
              " 193,\n",
              " 194,\n",
              " 195,\n",
              " 196,\n",
              " 197,\n",
              " 198,\n",
              " 199,\n",
              " 200,\n",
              " 201,\n",
              " 202,\n",
              " 203,\n",
              " 204,\n",
              " 205,\n",
              " 206,\n",
              " 207,\n",
              " 208,\n",
              " 209,\n",
              " 210,\n",
              " 211,\n",
              " 212,\n",
              " 213,\n",
              " 214,\n",
              " 215,\n",
              " 216,\n",
              " 217,\n",
              " 218,\n",
              " 219,\n",
              " 220,\n",
              " 221,\n",
              " 222,\n",
              " 223,\n",
              " 224,\n",
              " 225,\n",
              " 226,\n",
              " 227,\n",
              " 228,\n",
              " 229,\n",
              " 230,\n",
              " 231,\n",
              " 232,\n",
              " 233,\n",
              " 234,\n",
              " 235,\n",
              " 236,\n",
              " 237,\n",
              " 238,\n",
              " 239,\n",
              " 240,\n",
              " 241,\n",
              " 242,\n",
              " 243,\n",
              " 244,\n",
              " 245,\n",
              " 246,\n",
              " 247,\n",
              " 248,\n",
              " 249,\n",
              " 250,\n",
              " 251,\n",
              " 252,\n",
              " 253,\n",
              " 254,\n",
              " 255,\n",
              " 256,\n",
              " 257,\n",
              " 258,\n",
              " 259,\n",
              " 260,\n",
              " 261,\n",
              " 262,\n",
              " 263,\n",
              " 264,\n",
              " 265,\n",
              " 266,\n",
              " 267,\n",
              " 268,\n",
              " 269,\n",
              " 270,\n",
              " 271,\n",
              " 272,\n",
              " 273,\n",
              " 274,\n",
              " 275,\n",
              " 276,\n",
              " 277,\n",
              " 278,\n",
              " 279,\n",
              " 280,\n",
              " 281,\n",
              " 282,\n",
              " 283,\n",
              " 284,\n",
              " 285,\n",
              " 286,\n",
              " 287,\n",
              " 288,\n",
              " 289,\n",
              " 290,\n",
              " 291,\n",
              " 292,\n",
              " 293,\n",
              " 294,\n",
              " 295,\n",
              " 296,\n",
              " 297,\n",
              " 298,\n",
              " 299,\n",
              " 300,\n",
              " 301,\n",
              " 302,\n",
              " 303,\n",
              " 304,\n",
              " 305,\n",
              " 306,\n",
              " 307,\n",
              " 308,\n",
              " 309,\n",
              " 310,\n",
              " 311,\n",
              " 312,\n",
              " 313,\n",
              " 314,\n",
              " 315,\n",
              " 316,\n",
              " 317,\n",
              " 318,\n",
              " 319,\n",
              " 320,\n",
              " 321,\n",
              " 322,\n",
              " 323,\n",
              " 324,\n",
              " 325,\n",
              " 326,\n",
              " 327,\n",
              " 328,\n",
              " 329,\n",
              " 330,\n",
              " 331,\n",
              " 332,\n",
              " 333,\n",
              " 334,\n",
              " 335,\n",
              " 336,\n",
              " 337,\n",
              " 338,\n",
              " 339,\n",
              " 340,\n",
              " 341,\n",
              " 342,\n",
              " 343,\n",
              " 344,\n",
              " 345,\n",
              " 346,\n",
              " 347,\n",
              " 348,\n",
              " 349,\n",
              " 350,\n",
              " 351,\n",
              " 352,\n",
              " 353,\n",
              " 354,\n",
              " 355,\n",
              " 356,\n",
              " 357,\n",
              " 358,\n",
              " 359,\n",
              " 360,\n",
              " 361,\n",
              " 362,\n",
              " 363,\n",
              " 364,\n",
              " 365,\n",
              " 366,\n",
              " 367,\n",
              " 368,\n",
              " 369,\n",
              " 370,\n",
              " 371,\n",
              " 372,\n",
              " 373,\n",
              " 374,\n",
              " 375,\n",
              " 376,\n",
              " 377,\n",
              " 378,\n",
              " 379,\n",
              " 380,\n",
              " 381,\n",
              " 382,\n",
              " 383,\n",
              " 384,\n",
              " 385,\n",
              " 386,\n",
              " 387,\n",
              " 388,\n",
              " 389,\n",
              " 390,\n",
              " 391,\n",
              " 392,\n",
              " 393,\n",
              " 394,\n",
              " 395,\n",
              " 396,\n",
              " 397,\n",
              " 398,\n",
              " 399,\n",
              " 400,\n",
              " 401,\n",
              " 402,\n",
              " 403,\n",
              " 404,\n",
              " 405,\n",
              " 406,\n",
              " 407,\n",
              " 408,\n",
              " 409,\n",
              " 410,\n",
              " 411,\n",
              " 412,\n",
              " 413,\n",
              " 414,\n",
              " 415,\n",
              " 416,\n",
              " 417,\n",
              " 418,\n",
              " 419,\n",
              " 420,\n",
              " 421,\n",
              " 422,\n",
              " 423,\n",
              " 424,\n",
              " 425,\n",
              " 426,\n",
              " 427,\n",
              " 428,\n",
              " 429,\n",
              " 430,\n",
              " 431,\n",
              " 432,\n",
              " 433,\n",
              " 434,\n",
              " 435,\n",
              " 436,\n",
              " 437,\n",
              " 438,\n",
              " 439,\n",
              " 440,\n",
              " 441,\n",
              " 442,\n",
              " 443,\n",
              " 444,\n",
              " 445,\n",
              " 446,\n",
              " 447,\n",
              " 448,\n",
              " 449,\n",
              " 450,\n",
              " 451,\n",
              " 452,\n",
              " 453,\n",
              " 454,\n",
              " 455,\n",
              " 456,\n",
              " 457,\n",
              " 458,\n",
              " 459,\n",
              " 460,\n",
              " 461,\n",
              " 462,\n",
              " 463,\n",
              " 464,\n",
              " 465,\n",
              " 466,\n",
              " 467,\n",
              " 468,\n",
              " 469,\n",
              " 470,\n",
              " 471,\n",
              " 472,\n",
              " 473,\n",
              " 474,\n",
              " 475,\n",
              " 476,\n",
              " 477,\n",
              " 478,\n",
              " 479,\n",
              " 480,\n",
              " 481,\n",
              " 482,\n",
              " 483,\n",
              " 484,\n",
              " 485,\n",
              " 486,\n",
              " 487,\n",
              " 488,\n",
              " 489,\n",
              " 490,\n",
              " 491,\n",
              " 492,\n",
              " 493,\n",
              " 494,\n",
              " 495,\n",
              " 496,\n",
              " 497,\n",
              " 498,\n",
              " 499,\n",
              " 500,\n",
              " 501,\n",
              " 502,\n",
              " 503,\n",
              " 504,\n",
              " 505,\n",
              " 506,\n",
              " 507,\n",
              " 508,\n",
              " 509,\n",
              " 510,\n",
              " 511,\n",
              " 512,\n",
              " 513,\n",
              " 514,\n",
              " 515,\n",
              " 516,\n",
              " 517,\n",
              " 518,\n",
              " 519,\n",
              " 520,\n",
              " 521,\n",
              " 522,\n",
              " 523,\n",
              " 524,\n",
              " 525,\n",
              " 526,\n",
              " 527,\n",
              " 528,\n",
              " 529,\n",
              " 530,\n",
              " 531,\n",
              " 532,\n",
              " 533,\n",
              " 534,\n",
              " 535,\n",
              " 536,\n",
              " 537,\n",
              " 538,\n",
              " 539,\n",
              " 540,\n",
              " 541,\n",
              " 542,\n",
              " 543,\n",
              " 544,\n",
              " 545,\n",
              " 546,\n",
              " 547,\n",
              " 548,\n",
              " 549,\n",
              " 550,\n",
              " 551,\n",
              " 552,\n",
              " 553,\n",
              " 554,\n",
              " 555,\n",
              " 556,\n",
              " 557,\n",
              " 558,\n",
              " 559,\n",
              " 560,\n",
              " 561,\n",
              " 562,\n",
              " 563,\n",
              " 564,\n",
              " 565,\n",
              " 566,\n",
              " 567,\n",
              " 568,\n",
              " 569,\n",
              " 570,\n",
              " 571,\n",
              " 572,\n",
              " 573,\n",
              " 574,\n",
              " 575,\n",
              " 576,\n",
              " 577,\n",
              " 578,\n",
              " 579,\n",
              " 580,\n",
              " 581,\n",
              " 582,\n",
              " 583,\n",
              " 584,\n",
              " 585,\n",
              " 586,\n",
              " 587,\n",
              " 588,\n",
              " 589,\n",
              " 590,\n",
              " 591,\n",
              " 592,\n",
              " 593,\n",
              " 594,\n",
              " 595,\n",
              " 596,\n",
              " 597,\n",
              " 598,\n",
              " 599,\n",
              " 600,\n",
              " 601,\n",
              " 602,\n",
              " 603,\n",
              " 604,\n",
              " 605,\n",
              " 606,\n",
              " 607,\n",
              " 608,\n",
              " 609,\n",
              " 610,\n",
              " 611,\n",
              " 612,\n",
              " 613,\n",
              " 614,\n",
              " 615,\n",
              " 616,\n",
              " 617,\n",
              " 618,\n",
              " 619,\n",
              " 620,\n",
              " 621,\n",
              " 622,\n",
              " 623,\n",
              " 624,\n",
              " 625,\n",
              " 626,\n",
              " 627,\n",
              " 628,\n",
              " 629,\n",
              " 630,\n",
              " 631,\n",
              " 632,\n",
              " 633,\n",
              " 634,\n",
              " 635,\n",
              " 636,\n",
              " 637,\n",
              " 638,\n",
              " 639,\n",
              " 640,\n",
              " 641,\n",
              " 642,\n",
              " 643,\n",
              " 644,\n",
              " 645,\n",
              " 646,\n",
              " 647,\n",
              " 648,\n",
              " 649,\n",
              " 650,\n",
              " 651,\n",
              " 652,\n",
              " 653,\n",
              " 654,\n",
              " 655,\n",
              " 656,\n",
              " 657,\n",
              " 658,\n",
              " 659,\n",
              " 660,\n",
              " 661,\n",
              " 662,\n",
              " 663,\n",
              " 664,\n",
              " 665,\n",
              " 666,\n",
              " 667,\n",
              " 668,\n",
              " 669,\n",
              " 670,\n",
              " 671,\n",
              " 672,\n",
              " 673,\n",
              " 674,\n",
              " 675,\n",
              " 676,\n",
              " 677,\n",
              " 678,\n",
              " 679,\n",
              " 680,\n",
              " 681,\n",
              " 682,\n",
              " 683,\n",
              " 684,\n",
              " 685,\n",
              " 686,\n",
              " 687,\n",
              " 688,\n",
              " 689,\n",
              " 690,\n",
              " 691,\n",
              " 692,\n",
              " 693,\n",
              " 694,\n",
              " 695,\n",
              " 696,\n",
              " 697,\n",
              " 698,\n",
              " 699,\n",
              " 700,\n",
              " 701,\n",
              " 702,\n",
              " 703,\n",
              " 704,\n",
              " 705,\n",
              " 706,\n",
              " 707,\n",
              " 708,\n",
              " 709,\n",
              " 710,\n",
              " 711,\n",
              " 712,\n",
              " 713,\n",
              " 714,\n",
              " 715,\n",
              " 716,\n",
              " 717,\n",
              " 718,\n",
              " 719,\n",
              " 720,\n",
              " 721,\n",
              " 722,\n",
              " 723,\n",
              " 724,\n",
              " 725,\n",
              " 726,\n",
              " 727,\n",
              " 728,\n",
              " 729,\n",
              " 730,\n",
              " 731,\n",
              " 732,\n",
              " 733,\n",
              " 734,\n",
              " 735,\n",
              " 736,\n",
              " 737,\n",
              " 738,\n",
              " 739,\n",
              " 740,\n",
              " 741,\n",
              " 742,\n",
              " 743,\n",
              " 744,\n",
              " 745,\n",
              " 746,\n",
              " 747,\n",
              " 748,\n",
              " 749,\n",
              " 750,\n",
              " 751,\n",
              " 752,\n",
              " 753,\n",
              " 754,\n",
              " 755,\n",
              " 756,\n",
              " 757,\n",
              " 758,\n",
              " 759,\n",
              " 760,\n",
              " 761,\n",
              " 762,\n",
              " 763,\n",
              " 764,\n",
              " 765,\n",
              " 766,\n",
              " 767,\n",
              " 768,\n",
              " 769,\n",
              " 770,\n",
              " 771,\n",
              " 772,\n",
              " 773,\n",
              " 774,\n",
              " 775,\n",
              " 776,\n",
              " 777,\n",
              " 778,\n",
              " 779,\n",
              " 780,\n",
              " 781,\n",
              " 782,\n",
              " 783,\n",
              " 784,\n",
              " 785,\n",
              " 786,\n",
              " 787,\n",
              " 788,\n",
              " 789,\n",
              " 790,\n",
              " 791,\n",
              " 792,\n",
              " 793,\n",
              " 794,\n",
              " 795,\n",
              " 796,\n",
              " 797,\n",
              " 798,\n",
              " 799,\n",
              " 800,\n",
              " 801,\n",
              " 802,\n",
              " 803,\n",
              " 804,\n",
              " 805,\n",
              " 806,\n",
              " 807,\n",
              " 808,\n",
              " 809,\n",
              " 810,\n",
              " 811,\n",
              " 812,\n",
              " 813,\n",
              " 814,\n",
              " 815,\n",
              " 816,\n",
              " 817,\n",
              " 818,\n",
              " 819,\n",
              " 820,\n",
              " 821,\n",
              " 822,\n",
              " 823,\n",
              " 824,\n",
              " 825,\n",
              " 826,\n",
              " 827,\n",
              " 828,\n",
              " 829,\n",
              " 830,\n",
              " 831,\n",
              " 832,\n",
              " 833,\n",
              " 834,\n",
              " 835,\n",
              " 836,\n",
              " 837,\n",
              " 838,\n",
              " 839,\n",
              " 840,\n",
              " 841,\n",
              " 842,\n",
              " 843,\n",
              " 844,\n",
              " 845,\n",
              " 846,\n",
              " 847,\n",
              " 848,\n",
              " 849,\n",
              " 850,\n",
              " 851,\n",
              " 852,\n",
              " 853,\n",
              " 854,\n",
              " 855,\n",
              " 856,\n",
              " 857,\n",
              " 858,\n",
              " 859,\n",
              " 860,\n",
              " 861,\n",
              " 862,\n",
              " 863,\n",
              " 864,\n",
              " 865,\n",
              " 866,\n",
              " 867,\n",
              " 868,\n",
              " 869,\n",
              " 870,\n",
              " 871,\n",
              " 872,\n",
              " 873,\n",
              " 874,\n",
              " 875,\n",
              " 876,\n",
              " 877,\n",
              " 878,\n",
              " 879,\n",
              " 880,\n",
              " 881,\n",
              " 882,\n",
              " 883,\n",
              " 884,\n",
              " 885,\n",
              " 886,\n",
              " 887,\n",
              " 888,\n",
              " 889,\n",
              " 890,\n",
              " 891,\n",
              " 892,\n",
              " 893,\n",
              " 894,\n",
              " 895,\n",
              " 896,\n",
              " 897,\n",
              " 898,\n",
              " 899,\n",
              " 900,\n",
              " 901,\n",
              " 902,\n",
              " 903,\n",
              " 904,\n",
              " 905,\n",
              " 906,\n",
              " 907,\n",
              " 908,\n",
              " 909,\n",
              " 910,\n",
              " 911,\n",
              " 912,\n",
              " 913,\n",
              " 914,\n",
              " 915,\n",
              " 916,\n",
              " 917,\n",
              " 918,\n",
              " 919,\n",
              " 920,\n",
              " 921,\n",
              " 922,\n",
              " 923,\n",
              " 924,\n",
              " 925,\n",
              " 926,\n",
              " 927,\n",
              " 928,\n",
              " 929,\n",
              " 930,\n",
              " 931,\n",
              " 932,\n",
              " 933,\n",
              " 934,\n",
              " 935,\n",
              " 936,\n",
              " 937,\n",
              " 938,\n",
              " 939,\n",
              " 940,\n",
              " 941,\n",
              " 942,\n",
              " 943,\n",
              " 944,\n",
              " 945,\n",
              " 946,\n",
              " 947,\n",
              " 948,\n",
              " 949,\n",
              " 950,\n",
              " 951,\n",
              " 952,\n",
              " 953,\n",
              " 954,\n",
              " 955,\n",
              " 956,\n",
              " 957,\n",
              " 958,\n",
              " 959,\n",
              " 960,\n",
              " 961,\n",
              " 962,\n",
              " 963,\n",
              " 964,\n",
              " 965,\n",
              " 966,\n",
              " 967,\n",
              " 968,\n",
              " 969,\n",
              " 970,\n",
              " 971,\n",
              " 972,\n",
              " 973,\n",
              " 974,\n",
              " 975,\n",
              " 976,\n",
              " 977,\n",
              " 978,\n",
              " 979,\n",
              " 980,\n",
              " 981,\n",
              " 982,\n",
              " 983,\n",
              " 984,\n",
              " 985,\n",
              " 986,\n",
              " 987,\n",
              " 988,\n",
              " 989,\n",
              " 990,\n",
              " 991,\n",
              " 992,\n",
              " 993,\n",
              " 994,\n",
              " 995,\n",
              " 996,\n",
              " 997,\n",
              " 998,\n",
              " 999,\n",
              " ...]"
            ]
          },
          "metadata": {},
          "execution_count": 59
        }
      ]
    },
    {
      "cell_type": "markdown",
      "source": [
        "# 17. Write a Python program to create and write a list of numbers to a file, one number per line."
      ],
      "metadata": {
        "id": "HIRb8V3hAqxC"
      }
    },
    {
      "cell_type": "code",
      "source": [
        "numbers = [1, 2, 3, 4, 5]\n",
        "\n",
        "with open(\"numbers.txt\", \"w\") as f:\n",
        "    for num in numbers:\n",
        "        f.write(str(num) + \"\\n\")\n",
        "\n",
        "print(\"Numbers written to 'numbers.txt'.\")\n"
      ],
      "metadata": {
        "colab": {
          "base_uri": "https://localhost:8080/"
        },
        "id": "bfSGb1yeB3pu",
        "outputId": "98118656-1b12-45a7-b253-784d18df3c53"
      },
      "execution_count": 60,
      "outputs": [
        {
          "output_type": "stream",
          "name": "stdout",
          "text": [
            "Numbers written to 'numbers.txt'.\n"
          ]
        }
      ]
    },
    {
      "cell_type": "markdown",
      "source": [
        "# 18. How would you implement a basic logging setup that logs to a file with rotation after 1MB?"
      ],
      "metadata": {
        "id": "tz0H3a-EAv1M"
      }
    },
    {
      "cell_type": "code",
      "source": [
        "import logging\n",
        "from logging.handlers import RotatingFileHandler\n",
        "\n",
        "logger = logging.getLogger(\"myLogger\")\n",
        "logger.setLevel(logging.INFO)\n",
        "\n",
        "handler = RotatingFileHandler(\"rotating.log\", maxBytes=1024*1024, backupCount=3)\n",
        "logger.addHandler(handler)\n",
        "\n",
        "logger.info(\"Rotating logging started.\")\n",
        "print(\"Log written to 'rotating.log'.\")\n"
      ],
      "metadata": {
        "colab": {
          "base_uri": "https://localhost:8080/"
        },
        "id": "U_FadAyIB4Gv",
        "outputId": "e1d37afd-f357-4f79-ab7e-4fb692ca2d8d"
      },
      "execution_count": 61,
      "outputs": [
        {
          "output_type": "stream",
          "name": "stderr",
          "text": [
            "INFO:myLogger:Rotating logging started.\n"
          ]
        },
        {
          "output_type": "stream",
          "name": "stdout",
          "text": [
            "Log written to 'rotating.log'.\n"
          ]
        }
      ]
    },
    {
      "cell_type": "markdown",
      "source": [
        "# 19.  Write a program that handles both IndexError and KeyError using a try-except block."
      ],
      "metadata": {
        "id": "OBhC2bJmA0KW"
      }
    },
    {
      "cell_type": "code",
      "source": [
        "try:\n",
        "    my_list = [1, 2]\n",
        "    print(my_list[5])\n",
        "    my_dict = {\"name\": \"Bob\"}\n",
        "    print(my_dict[\"age\"])\n",
        "except IndexError:\n",
        "    print(\"Index out of range.\")\n",
        "except KeyError:\n",
        "    print(\"Key not found.\")\n"
      ],
      "metadata": {
        "colab": {
          "base_uri": "https://localhost:8080/"
        },
        "id": "ViKKZIyQB4ja",
        "outputId": "24465a93-8a3e-4384-dfb6-a40d102731d9"
      },
      "execution_count": 62,
      "outputs": [
        {
          "output_type": "stream",
          "name": "stdout",
          "text": [
            "Index out of range.\n"
          ]
        }
      ]
    },
    {
      "cell_type": "markdown",
      "source": [
        "# 20. How would you open a file and read its contents using a context manager in Python?"
      ],
      "metadata": {
        "id": "n56h4iXvA38c"
      }
    },
    {
      "cell_type": "code",
      "source": [
        "with open(\"file1.txt\", \"r\") as f:\n",
        "    content = f.read()\n",
        "\n",
        "print(\"File content:\\n\", content)\n"
      ],
      "metadata": {
        "colab": {
          "base_uri": "https://localhost:8080/"
        },
        "id": "VZ_9dVkxB4_s",
        "outputId": "b47cd17b-4f2a-44fc-a0d8-f203e405c096"
      },
      "execution_count": 63,
      "outputs": [
        {
          "output_type": "stream",
          "name": "stdout",
          "text": [
            "File content:\n",
            " Hello, Python!\n",
            "Appended line.\n"
          ]
        }
      ]
    },
    {
      "cell_type": "markdown",
      "source": [
        "# 21. Write a Python program that reads a file and prints the number of occurrences of a specific word."
      ],
      "metadata": {
        "id": "7eKQ8ImnA-oX"
      }
    },
    {
      "cell_type": "code",
      "source": [
        "word = \"Python\"\n",
        "count = 0\n",
        "\n",
        "with open(\"file1.txt\", \"r\") as f:\n",
        "    for line in f:\n",
        "        count += line.count(word)\n",
        "\n",
        "print(f\"The word '{word}' occurred {count} times.\")\n"
      ],
      "metadata": {
        "colab": {
          "base_uri": "https://localhost:8080/"
        },
        "id": "cUJjwpuMB6af",
        "outputId": "a38bb0af-2c2b-4811-e53c-8e3ef0754253"
      },
      "execution_count": 64,
      "outputs": [
        {
          "output_type": "stream",
          "name": "stdout",
          "text": [
            "The word 'Python' occurred 1 times.\n"
          ]
        }
      ]
    },
    {
      "cell_type": "markdown",
      "source": [
        "# 22.  How can you check if a file is empty before attempting to read its contents?"
      ],
      "metadata": {
        "id": "MOEEReyXBDM5"
      }
    },
    {
      "cell_type": "code",
      "source": [
        "import os\n",
        "\n",
        "if os.path.exists(\"empty.txt\") and os.stat(\"empty.txt\").st_size == 0:\n",
        "    print(\"The file is empty.\")\n",
        "else:\n",
        "    print(\"The file has content.\")\n"
      ],
      "metadata": {
        "colab": {
          "base_uri": "https://localhost:8080/"
        },
        "id": "jLW1HlF8B502",
        "outputId": "190571aa-cb42-4311-9fa3-74ceb35b2c6f"
      },
      "execution_count": 65,
      "outputs": [
        {
          "output_type": "stream",
          "name": "stdout",
          "text": [
            "The file is empty.\n"
          ]
        }
      ]
    },
    {
      "cell_type": "markdown",
      "source": [
        "# 23.  Write a Python program that writes to a log file when an error occurs during file handling."
      ],
      "metadata": {
        "id": "ePsiSw6MBGkI"
      }
    },
    {
      "cell_type": "code",
      "source": [
        "import logging\n",
        "\n",
        "logging.basicConfig(filename=\"file_errors.log\", level=logging.ERROR)\n",
        "\n",
        "try:\n",
        "    with open(\"missing_file.txt\", \"r\") as f:\n",
        "        print(f.read())\n",
        "except Exception as e:\n",
        "    logging.error(\"File handling error: %s\", e)\n",
        "    print(\"Error occurred and logged.\")\n"
      ],
      "metadata": {
        "colab": {
          "base_uri": "https://localhost:8080/"
        },
        "id": "wktjc6a4BLcK",
        "outputId": "e65401a7-d079-4e33-bc29-40ad76a417ac"
      },
      "execution_count": 66,
      "outputs": [
        {
          "output_type": "stream",
          "name": "stderr",
          "text": [
            "ERROR:root:File handling error: [Errno 2] No such file or directory: 'missing_file.txt'\n"
          ]
        },
        {
          "output_type": "stream",
          "name": "stdout",
          "text": [
            "Error occurred and logged.\n"
          ]
        }
      ]
    }
  ]
}